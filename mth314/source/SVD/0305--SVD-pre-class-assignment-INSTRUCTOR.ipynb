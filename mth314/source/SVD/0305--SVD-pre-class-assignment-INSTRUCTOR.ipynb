{
 "cells": [
  {
   "cell_type": "markdown",
   "metadata": {},
   "source": [
    "In order to successfully complete this assignment you must do the required reading, watch the provided videos and complete all instructions.  The embedded Google form must be entirely filled out and submitted on or before **11:59pm on Wednesday October 30**.  Students must come to class the next day prepared to discuss the material covered in this assignment. answer"
   ]
  },
  {
   "cell_type": "markdown",
   "metadata": {},
   "source": [
    "# Pre-Class Assignment: Singular Value Decomposition"
   ]
  },
  {
   "cell_type": "markdown",
   "metadata": {},
   "source": [
    "## Goals for today's pre-class assignment \n",
    "\n",
    "</p>\n",
    "\n",
    "1. [Video On Singular Value Decomposition](#Video_On_Signular_Value_Decomposition)\n",
    "1. [Assignment wrap-up](#Assignment_wrap-up)"
   ]
  },
  {
   "cell_type": "code",
   "execution_count": 2,
   "metadata": {},
   "outputs": [],
   "source": [
    "%matplotlib inline\n",
    "import numpy as np\n",
    "import matplotlib.pyplot as plt\n",
    "import sympy as sym\n",
    "sym.init_printing()"
   ]
  },
  {
   "cell_type": "markdown",
   "metadata": {},
   "source": [
    "---\n",
    "<a name=\"Video_On_Signular_Value_Decomposition\"></a>\n",
    "\n",
    "# 1. Video On Signular Value Decomposition\n",
    "\n",
    "Calculating the eigenvaluse and eigenvectors of a matrix requires that the matrix is square ($n \\times n$). Think of SVD as a way to get similar information from a non-square matrix.\n",
    "\n",
    "This video is a little longer than most videos.  I recommend reading the questions first and then watching the video and following along with the provided code examples."
   ]
  },
  {
   "cell_type": "code",
   "execution_count": 2,
   "metadata": {
    "scrolled": false
   },
   "outputs": [
    {
     "data": {
      "image/jpeg": "[encoded data removed]",
      "text/html": [
       "\n",
       "        <iframe\n",
       "            width=\"640\"\n",
       "            height=\"360\"\n",
       "            src=\"https://www.youtube.com/embed/EfZsEFhHcNM\"\n",
       "            frameborder=\"0\"\n",
       "            allowfullscreen\n",
       "        ></iframe>\n",
       "        "
      ],
      "text/plain": [
       "<IPython.lib.display.YouTubeVideo at 0xc9e32f0>"
      ]
     },
     "execution_count": 2,
     "metadata": {},
     "output_type": "execute_result"
    }
   ],
   "source": [
    "from IPython.display import YouTubeVideo\n",
    "YouTubeVideo(\"EfZsEFhHcNM\",width=640,height=360)"
   ]
  },
  {
   "cell_type": "markdown",
   "metadata": {},
   "source": [
    "### Diagonalize a Square Matrix\n",
    "\n",
    "Consider the following matrix provided in the above video (~1:50 into the video)"
   ]
  },
  {
   "cell_type": "code",
   "execution_count": 3,
   "metadata": {
    "scrolled": true
   },
   "outputs": [
    {
     "data": {
      "text/latex": [
       "$$\\left[\\begin{matrix}1 & 1 & 3\\\\-3 & -5 & -3\\\\3 & 3 & 1\\end{matrix}\\right]$$"
      ],
      "text/plain": [
       "⎡1   1   3 ⎤\n",
       "⎢          ⎥\n",
       "⎢-3  -5  -3⎥\n",
       "⎢          ⎥\n",
       "⎣3   3   1 ⎦"
      ]
     },
     "execution_count": 3,
     "metadata": {},
     "output_type": "execute_result"
    }
   ],
   "source": [
    "A = np.matrix([[1,1,3], [-3, -5, -3], [3, 3, 1]])\n",
    "sym.Matrix(A)"
   ]
  },
  {
   "cell_type": "markdown",
   "metadata": {},
   "source": [
    "&#9989; <font color=red>**DO THIS:**</font> Calculate the Eigenvalues and Eigenvectors for the above matrix $A$. name the eigenvalues (vals) and the eigenvectors (vecs)"
   ]
  },
  {
   "cell_type": "code",
   "execution_count": 4,
   "metadata": {},
   "outputs": [
    {
     "name": "stdout",
     "output_type": "stream",
     "text": [
      "(array([ 2.37228132, -3.37228132, -2.        ]), matrix([[-7.17666340e-01,  3.07751722e-01, -7.07106781e-01],\n",
      "        [ 4.92420057e-01,  6.72788554e-01, -6.10622664e-16],\n",
      "        [-4.92420057e-01, -6.72788554e-01,  7.07106781e-01]]))\n"
     ]
    }
   ],
   "source": [
    "##Put your code here\n",
    "print(np.linalg.eig(A))\n",
    "vals = np.linalg.eig(A)[0]\n",
    "vecs = np.linalg.eig(A)[1]"
   ]
  },
  {
   "cell_type": "markdown",
   "metadata": {},
   "source": [
    "The following code sorts the eigenvectors based on the ordering of the eigenvalues. It does this using the argsort algorithm which puts the values in ascending order.  The ```[::-1]``` notation reverses the order of the indexes.  We will put the sorted vectors into a matrix called $P$"
   ]
  },
  {
   "cell_type": "code",
   "execution_count": 5,
   "metadata": {
    "scrolled": true
   },
   "outputs": [
    {
     "data": {
      "text/latex": [
       "$$\\left[\\begin{matrix}-0.717666339515337 & -0.707106781186547 & 0.307751722477118\\\\0.492420057027868 & -6.10622663543836 \\cdot 10^{-16} & 0.672788554195286\\\\-0.492420057027868 & 0.707106781186548 & -0.672788554195286\\end{matrix}\\right]$$"
      ],
      "text/plain": [
       "⎡-0.717666339515337   -0.707106781186547    0.307751722477118 ⎤\n",
       "⎢                                                             ⎥\n",
       "⎢0.492420057027868   -6.10622663543836e-16  0.672788554195286 ⎥\n",
       "⎢                                                             ⎥\n",
       "⎣-0.492420057027868    0.707106781186548    -0.672788554195286⎦"
      ]
     },
     "execution_count": 5,
     "metadata": {},
     "output_type": "execute_result"
    }
   ],
   "source": [
    "idx = vals.argsort()[::-1]   \n",
    "vals = vals[idx]\n",
    "vecs = vecs[:,idx]\n",
    "\n",
    "V = vecs\n",
    "sym.Matrix(V)\n",
    "\n",
    "P = vecs\n",
    "sym.Matrix(P)"
   ]
  },
  {
   "cell_type": "markdown",
   "metadata": {},
   "source": [
    "The following code generates a matrix of the same size as $A$ and puts the eigenvalues on the diagonals. "
   ]
  },
  {
   "cell_type": "code",
   "execution_count": 6,
   "metadata": {
    "scrolled": true
   },
   "outputs": [
    {
     "data": {
      "text/latex": [
       "$$\\left[\\begin{matrix}2.37228132326901 & 0.0 & 0.0\\\\0.0 & -2.0 & 0.0\\\\0.0 & 0.0 & -3.37228132326901\\end{matrix}\\right]$$"
      ],
      "text/plain": [
       "⎡2.37228132326901  0.0          0.0       ⎤\n",
       "⎢                                         ⎥\n",
       "⎢      0.0         -2.0         0.0       ⎥\n",
       "⎢                                         ⎥\n",
       "⎣      0.0         0.0   -3.37228132326901⎦"
      ]
     },
     "execution_count": 6,
     "metadata": {},
     "output_type": "execute_result"
    }
   ],
   "source": [
    "D = np.zeros(A.shape)\n",
    "for i in range(len(vals)):\n",
    "    D[i,i] = vals[i]\n",
    "sym.Matrix(D)"
   ]
  },
  {
   "cell_type": "markdown",
   "metadata": {},
   "source": [
    "&#9989; <font color=red>**DO THIS:**</font> Show that $A=PDP^{-1}$"
   ]
  },
  {
   "cell_type": "code",
   "execution_count": 7,
   "metadata": {},
   "outputs": [
    {
     "name": "stdout",
     "output_type": "stream",
     "text": [
      "[[ 1  1  3]\n",
      " [-3 -5 -3]\n",
      " [ 3  3  1]]\n"
     ]
    },
    {
     "data": {
      "text/plain": [
       "matrix([[ 1.,  1.,  3.],\n",
       "        [-3., -5., -3.],\n",
       "        [ 3.,  3.,  1.]])"
      ]
     },
     "execution_count": 7,
     "metadata": {},
     "output_type": "execute_result"
    }
   ],
   "source": [
    "#Put your answer here\n",
    "print(A)\n",
    "P * D * np.linalg.inv(P)"
   ]
  },
  {
   "cell_type": "markdown",
   "metadata": {},
   "source": [
    "&#9989; <font color=red>**DO THIS:**</font> Show that $A^{10}=PD^{10}P^{-1}$. I.e. multiply A by itself 10 times and then taking $\\sigma^10$ for each of the eigenvalues in the diagonal of $D$."
   ]
  },
  {
   "cell_type": "code",
   "execution_count": 8,
   "metadata": {},
   "outputs": [
    {
     "name": "stdout",
     "output_type": "stream",
     "text": [
      "[[  49735  112969   48711]\n",
      " [  96387  242509   96387]\n",
      " [ -96387 -241485  -95363]]\n",
      "[[  49735.  112969.   48711.]\n",
      " [  96387.  242509.   96387.]\n",
      " [ -96387. -241485.  -95363.]]\n"
     ]
    }
   ],
   "source": [
    "# Put your answer to the above question here\n",
    "print(A*A*A*A*A*A*A*A*A*A)\n",
    "print(P*D*D*D*D*D*D*D*D*D*D*np.linalg.inv(P))"
   ]
  },
  {
   "cell_type": "markdown",
   "metadata": {},
   "source": [
    "&#9989; <font color=red>**QUESTION 1:**</font> What is the estimated complexity of multiplying an arbitrary $n\\times n$ matrix by itself $m$ times? (Hint: both $m$ and $n$ should be included in your Big-O notation answer). "
   ]
  },
  {
   "cell_type": "markdown",
   "metadata": {},
   "source": [
    "Put your answer to the above question here\n",
    "\n",
    "$O(m*n^3)$"
   ]
  },
  {
   "cell_type": "markdown",
   "metadata": {},
   "source": [
    "&#9989; <font color=red>**QUESTION 2:**</font> What is the estimated complexity (Big-O) of diagonalizing an $n \\times n$ symmetric matrix? i.e. what is the complexity of decomposing $A$ into $PDP^{-1}$?"
   ]
  },
  {
   "cell_type": "markdown",
   "metadata": {},
   "source": [
    "$O(n^3)$"
   ]
  },
  {
   "cell_type": "markdown",
   "metadata": {},
   "source": [
    "&#9989; <font color=red>**QUESTION 3:**</font> What is the estimated complexity (Big-O) of multiplying a diagonlized $n \\times n$ matrix by itself $m$ times? i.e. you already have $A=PDP^{-1}$ calculated what does it cost to calculate $A^m$?"
   ]
  },
  {
   "cell_type": "markdown",
   "metadata": {},
   "source": [
    "O(n) to multiply itself\n",
    "\n",
    "O(n * m)\n",
    "\n",
    "O(n^3) + mO(n)"
   ]
  },
  {
   "cell_type": "markdown",
   "metadata": {},
   "source": [
    "### Inverse of an orthonormal matrix $U$ is $U^T$\n",
    "    \n",
    "Caluclate the $P$ matrix for the following matrix $A$ such that $A=PDP^{-1}$"
   ]
  },
  {
   "cell_type": "code",
   "execution_count": 18,
   "metadata": {
    "scrolled": true
   },
   "outputs": [
    {
     "name": "stdout",
     "output_type": "stream",
     "text": [
      "(array([3., 8., 6.]), matrix([[ 5.77350269e-01,  7.07106781e-01, -4.08248290e-01],\n",
      "        [ 5.77350269e-01, -7.07106781e-01, -4.08248290e-01],\n",
      "        [ 5.77350269e-01, -2.78349284e-16,  8.16496581e-01]]))\n",
      "[[ 6 -2 -1]\n",
      " [-2  6 -1]\n",
      " [-1 -1  5]]\n",
      "[[ 7.07106781e-01 -4.08248290e-01  5.77350269e-01]\n",
      " [-7.07106781e-01 -4.08248290e-01  5.77350269e-01]\n",
      " [-2.78349284e-16  8.16496581e-01  5.77350269e-01]]\n",
      "[[ 6. -2. -1.]\n",
      " [-2.  6. -1.]\n",
      " [-1. -1.  5.]]\n"
     ]
    }
   ],
   "source": [
    "A = np.matrix([[6,-2,-1],[-2,6,-1], [-1,-1,5]])\n",
    "\n",
    "print(np.linalg.eig(A))\n",
    "vals = np.linalg.eig(A)[0]\n",
    "vecs = np.linalg.eig(A)[1]\n",
    "idx = vals.argsort()[::-1] \n",
    "vals = vals[idx]\n",
    "vecs = vecs[:,idx]\n",
    "D = np.zeros(A.shape)\n",
    "for i in range(len(vals)):\n",
    "    D[i,i] = vals[i]\n",
    "\n",
    "P = vecs\n",
    "# sym.Matrix(A)\n",
    "print(A)\n",
    "print(P)\n",
    "print(P * D * np.linalg.inv(P))\n"
   ]
  },
  {
   "cell_type": "markdown",
   "metadata": {},
   "source": [
    "&#9989; <font color=red>**DO THIS:**</font> Show that in this special case (Where $A$ is symmetric) $A=PDP^T$"
   ]
  },
  {
   "cell_type": "code",
   "execution_count": 19,
   "metadata": {},
   "outputs": [
    {
     "name": "stdout",
     "output_type": "stream",
     "text": [
      "[[ 6. -2. -1.]\n",
      " [-2.  6. -1.]\n",
      " [-1. -1.  5.]]\n"
     ]
    }
   ],
   "source": [
    "\n",
    "print(P * D * P.T)"
   ]
  },
  {
   "cell_type": "markdown",
   "metadata": {},
   "source": [
    "&#9989; <font color=red>**QUESTION 4:**</font> What is the complexity of inverting an arbitrary $n \\times n$ matrix?"
   ]
  },
  {
   "cell_type": "markdown",
   "metadata": {},
   "source": [
    "O(n^3)"
   ]
  },
  {
   "cell_type": "markdown",
   "metadata": {},
   "source": [
    "&#9989; <font color=red>**QUESTION 5:**</font> What is the complexity of inverting a $n \\times n$ orthonormal matrix?"
   ]
  },
  {
   "cell_type": "markdown",
   "metadata": {},
   "source": [
    "$$O(1)$$"
   ]
  },
  {
   "cell_type": "markdown",
   "metadata": {},
   "source": [
    "### Non-square Matrix\n",
    "\n",
    "Now consider the non-square $n \\times m$ matrix $A$"
   ]
  },
  {
   "cell_type": "code",
   "execution_count": 3,
   "metadata": {},
   "outputs": [
    {
     "data": {
      "text/latex": [
       "$$\\left[\\begin{matrix}4 & 11 & 14\\\\8 & 7 & -2\\end{matrix}\\right]$$"
      ],
      "text/plain": [
       "⎡4  11  14⎤\n",
       "⎢         ⎥\n",
       "⎣8  7   -2⎦"
      ]
     },
     "execution_count": 3,
     "metadata": {},
     "output_type": "execute_result"
    }
   ],
   "source": [
    "A = np.matrix([[4, 11, 14], [8, 7, -2]])\n",
    "\n",
    "sym.Matrix(A)"
   ]
  },
  {
   "cell_type": "markdown",
   "metadata": {},
   "source": [
    "The following code calculate $A^TA=VDV^T$:"
   ]
  },
  {
   "cell_type": "code",
   "execution_count": 4,
   "metadata": {},
   "outputs": [
    {
     "data": {
      "text/latex": [
       "$$\\left[\\begin{matrix}80 & 100 & 40\\\\100 & 170 & 140\\\\40 & 140 & 200\\end{matrix}\\right]$$"
      ],
      "text/plain": [
       "⎡80   100  40 ⎤\n",
       "⎢             ⎥\n",
       "⎢100  170  140⎥\n",
       "⎢             ⎥\n",
       "⎣40   140  200⎦"
      ]
     },
     "execution_count": 4,
     "metadata": {},
     "output_type": "execute_result"
    }
   ],
   "source": [
    "sym.Matrix(A.T*A)"
   ]
  },
  {
   "cell_type": "code",
   "execution_count": 5,
   "metadata": {},
   "outputs": [
    {
     "name": "stdout",
     "output_type": "stream",
     "text": [
      "[[ 80 100  40]\n",
      " [100 170 140]\n",
      " [ 40 140 200]]\n",
      "[[ 3.60000000e+02  0.00000000e+00  0.00000000e+00]\n",
      " [ 0.00000000e+00  9.00000000e+01  0.00000000e+00]\n",
      " [ 0.00000000e+00  0.00000000e+00 -3.71123759e-15]]\n",
      "[[ 80. 100.  40.]\n",
      " [100. 170. 140.]\n",
      " [ 40. 140. 200.]]\n"
     ]
    },
    {
     "data": {
      "text/latex": [
       "$$\\left[\\begin{matrix}-0.333333333333333 & -0.666666666666666 & -0.666666666666667\\\\-0.666666666666667 & -0.333333333333334 & 0.666666666666667\\\\-0.666666666666667 & 0.666666666666667 & -0.333333333333333\\end{matrix}\\right]$$"
      ],
      "text/plain": [
       "⎡-0.333333333333333  -0.666666666666666  -0.666666666666667⎤\n",
       "⎢                                                          ⎥\n",
       "⎢-0.666666666666667  -0.333333333333334  0.666666666666667 ⎥\n",
       "⎢                                                          ⎥\n",
       "⎣-0.666666666666667  0.666666666666667   -0.333333333333333⎦"
      ]
     },
     "execution_count": 5,
     "metadata": {},
     "output_type": "execute_result"
    }
   ],
   "source": [
    "eigvals, eigvec = np.linalg.eig(A.T*A)\n",
    "print(A.T * A)\n",
    "idx = eigvals.argsort()[::-1]   \n",
    "eigvals = eigvals[idx]\n",
    "eigvec = eigvec[:,idx]\n",
    "\n",
    "V = eigvec\n",
    "\n",
    "D = np.zeros(V.shape)\n",
    "for i in range(len(eigvals)):\n",
    "    D[i,i] = eigvals[i]\n",
    "print(D)\n",
    "\n",
    "print(V * D * V.T)\n",
    "sym.Matrix(V)"
   ]
  },
  {
   "cell_type": "markdown",
   "metadata": {},
   "source": [
    "&#9989; <font color=red>**DO THIS:**</font>  Calculate $AA^T=UDU^T$:"
   ]
  },
  {
   "cell_type": "code",
   "execution_count": 6,
   "metadata": {},
   "outputs": [
    {
     "data": {
      "text/latex": [
       "$$\\left[\\begin{matrix}0.948683298050514 & -0.316227766016838\\\\0.316227766016838 & 0.948683298050514\\end{matrix}\\right]$$"
      ],
      "text/plain": [
       "⎡0.948683298050514  -0.316227766016838⎤\n",
       "⎢                                     ⎥\n",
       "⎣0.316227766016838  0.948683298050514 ⎦"
      ]
     },
     "execution_count": 6,
     "metadata": {},
     "output_type": "execute_result"
    }
   ],
   "source": [
    "#Put your answer here\n",
    "eigvals, eigvec = np.linalg.eig(A*A.T)\n",
    "idx = eigvals.argsort()[::-1]   \n",
    "eigvals = eigvals[idx]\n",
    "eigvec = eigvec[:,idx]\n",
    "\n",
    "U = eigvec\n",
    "sym.Matrix(U)"
   ]
  },
  {
   "cell_type": "markdown",
   "metadata": {},
   "source": [
    "The following code calculates $\\Sigma$ by putting the singular values on the diagonal of an $n \\times m$ zero matrix: the "
   ]
  },
  {
   "cell_type": "code",
   "execution_count": 7,
   "metadata": {
    "scrolled": true
   },
   "outputs": [
    {
     "name": "stdout",
     "output_type": "stream",
     "text": [
      "[[18.97366596  9.48683298]]\n"
     ]
    },
    {
     "data": {
      "text/latex": [
       "$$\\left[\\begin{matrix}18.9736659610103 & 0.0 & 0.0\\\\0.0 & 9.48683298050514 & 0.0\\end{matrix}\\right]$$"
      ],
      "text/plain": [
       "⎡18.9736659610103        0.0         0.0⎤\n",
       "⎢                                       ⎥\n",
       "⎣      0.0         9.48683298050514  0.0⎦"
      ]
     },
     "execution_count": 7,
     "metadata": {},
     "output_type": "execute_result"
    }
   ],
   "source": [
    "\n",
    "E = np.zeros(A.shape)\n",
    "\n",
    "for i in range(len(eigvals)):\n",
    "    E[i,i] = np.sqrt(eigvals[i])\n",
    "    \n",
    "sym.Matrix(E)"
   ]
  },
  {
   "cell_type": "markdown",
   "metadata": {},
   "source": [
    "&#9989; <font color=red>**DO THIS:**</font>  Show that $A=U \\Sigma V^T$"
   ]
  },
  {
   "cell_type": "code",
   "execution_count": 34,
   "metadata": {},
   "outputs": [
    {
     "name": "stdout",
     "output_type": "stream",
     "text": [
      "[[ 4 11 14]\n",
      " [ 8  7 -2]]\n",
      "[[ -4. -11. -14.]\n",
      " [ -8.  -7.   2.]]\n"
     ]
    }
   ],
   "source": [
    "#Put your answer here\n",
    "print(A)\n",
    "print(U * E * V.T)"
   ]
  },
  {
   "cell_type": "markdown",
   "metadata": {},
   "source": [
    "----\n",
    "\n",
    "<a name=\"Assignment_wrap-up\"></a>\n",
    "# 2. Assignment wrap-up\n",
    "\n",
    "Please fill out the form that appears when you run the code below.  **You must completely fill this out in order to receive credit for the assignment!**\n",
    "\n",
    "[Direct Link to Google Form](https://cmse.msu.edu/cmse314-pc-survey)\n",
    "\n",
    "\n",
    "If you have trouble with the embedded form, please make sure you log on with your MSU google account at [googleapps.msu.edu](https://googleapps.msu.edu) and then click on the direct link above."
   ]
  },
  {
   "cell_type": "markdown",
   "metadata": {},
   "source": [
    "&#9989; <font color=red>**Assignment-Specific QUESTION:**</font> There is no Assignment specific question for this notebook. You can just say \"none\"."
   ]
  },
  {
   "cell_type": "markdown",
   "metadata": {},
   "source": [
    "Put your answer to the above question here"
   ]
  },
  {
   "cell_type": "markdown",
   "metadata": {},
   "source": [
    "&#9989; <font color=red>**QUESTION:**</font>  Summarize what you did in this assignment."
   ]
  },
  {
   "cell_type": "markdown",
   "metadata": {},
   "source": [
    "Put your answer to the above question here"
   ]
  },
  {
   "cell_type": "markdown",
   "metadata": {},
   "source": [
    "&#9989; <font color=red>**QUESTION:**</font>  What questions do you have, if any, about any of the topics discussed in this assignment after working through the jupyter notebook?"
   ]
  },
  {
   "cell_type": "markdown",
   "metadata": {},
   "source": [
    "Put your answer to the above question here"
   ]
  },
  {
   "cell_type": "markdown",
   "metadata": {},
   "source": [
    "&#9989; <font color=red>**QUESTION:**</font>  How well do you feel this assignment helped you to achieve a better understanding of the above mentioned topic(s)?"
   ]
  },
  {
   "cell_type": "markdown",
   "metadata": {},
   "source": [
    "Put your answer to the above question here"
   ]
  },
  {
   "cell_type": "markdown",
   "metadata": {},
   "source": [
    "&#9989; <font color=red>**QUESTION:**</font> What was the **most** challenging part of this assignment for you? "
   ]
  },
  {
   "cell_type": "markdown",
   "metadata": {},
   "source": [
    "Put your answer to the above question here"
   ]
  },
  {
   "cell_type": "markdown",
   "metadata": {},
   "source": [
    "&#9989; <font color=red>**QUESTION:**</font> What was the **least** challenging part of this assignment for you? "
   ]
  },
  {
   "cell_type": "markdown",
   "metadata": {},
   "source": [
    "Put your answer to the above question here"
   ]
  },
  {
   "cell_type": "markdown",
   "metadata": {},
   "source": [
    "&#9989; <font color=red>**QUESTION:**</font>  What kind of additional questions or support, if any, do you feel you need to have a better understanding of the content in this assignment?"
   ]
  },
  {
   "cell_type": "markdown",
   "metadata": {},
   "source": [
    "Put your answer to the above question here"
   ]
  },
  {
   "cell_type": "markdown",
   "metadata": {},
   "source": [
    "&#9989; <font color=red>**QUESTION:**</font>  Do you have any further questions or comments about this material, or anything else that's going on in class?"
   ]
  },
  {
   "cell_type": "markdown",
   "metadata": {},
   "source": [
    "Put your answer to the above question here"
   ]
  },
  {
   "cell_type": "markdown",
   "metadata": {},
   "source": [
    "&#9989; <font color=red>**QUESTION:**</font> Approximately how long did this pre-class assignment take?"
   ]
  },
  {
   "cell_type": "markdown",
   "metadata": {},
   "source": [
    "Put your answer to the above question here"
   ]
  },
  {
   "cell_type": "code",
   "execution_count": 17,
   "metadata": {},
   "outputs": [
    {
     "data": {
      "text/html": [
       "\n",
       "<iframe \n",
       "\tsrc=\"https://cmse.msu.edu/cmse314-pc-survey\" \n",
       "\twidth=\"100%\" \n",
       "\theight=\"1000px\" \n",
       "\tframeborder=\"0\" \n",
       "\tmarginheight=\"0\" \n",
       "\tmarginwidth=\"0\">\n",
       "\tLoading...\n",
       "</iframe>\n"
      ],
      "text/plain": [
       "<IPython.core.display.HTML object>"
      ]
     },
     "execution_count": 17,
     "metadata": {},
     "output_type": "execute_result"
    }
   ],
   "source": [
    "from IPython.display import HTML\n",
    "HTML(\n",
    "\"\"\"\n",
    "<iframe \n",
    "\tsrc=\"https://cmse.msu.edu/cmse314-pc-survey\" \n",
    "\twidth=\"100%\" \n",
    "\theight=\"1000px\" \n",
    "\tframeborder=\"0\" \n",
    "\tmarginheight=\"0\" \n",
    "\tmarginwidth=\"0\">\n",
    "\tLoading...\n",
    "</iframe>\n",
    "\"\"\"\n",
    ")"
   ]
  },
  {
   "cell_type": "markdown",
   "metadata": {},
   "source": [
    "---------\n",
    "### Congratulations, we're done!\n",
    "\n",
    "To get credit for this assignment you must fill out and submit the above Google From on or before the assignment due date."
   ]
  },
  {
   "cell_type": "markdown",
   "metadata": {},
   "source": [
    "### Course Resources:\n",
    "\n",
    "- [Syllabus](https://docs.google.com/document/d/e/2PACX-1vRAFflQFXulzSMwWcyr_SEd6piEzHLWTjGkwx49D6H6FZxQGWEHrKMDiIaV3Pu6adAQ-wjlg3IXptjM/pub)\n",
    "- [Preliminary Schedule](https://docs.google.com/spreadsheets/d/e/2PACX-1vS5UoXTmHDnF99kTHOiHIWuOBG7iqts-8EsbpoJHayRTB7F8eI4SfMR0MVp7dt0RQrMkNTVW6M1x-wY/pubhtml)\n",
    "- [Course D2L Page](https://d2l.msu.edu/d2l/home/832635)"
   ]
  },
  {
   "cell_type": "markdown",
   "metadata": {},
   "source": [
    "&#169; Copyright 2019,  Michigan State University Board of Trustees"
   ]
  }
 ],
 "metadata": {
  "anaconda-cloud": {},
  "kernelspec": {
   "display_name": "Python 3",
   "language": "python",
   "name": "python3"
  },
  "language_info": {
   "codemirror_mode": {
    "name": "ipython",
    "version": 3
   },
   "file_extension": ".py",
   "mimetype": "text/x-python",
   "name": "python",
   "nbconvert_exporter": "python",
   "pygments_lexer": "ipython3",
   "version": "3.6.3"
  }
 },
 "nbformat": 4,
 "nbformat_minor": 2
}
