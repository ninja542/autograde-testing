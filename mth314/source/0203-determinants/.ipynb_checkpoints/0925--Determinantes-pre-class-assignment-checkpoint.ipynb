{
 "cells": [
  {
   "cell_type": "markdown",
   "metadata": {},
   "source": [
    "In order to successfully complete this assignment you must do the required reading, watch the provided videos and complete all instructions.  The embedded Google form must be entirely filled out and submitted on or before **11:59pm on Wednesday September 25**.  Students must come to class the next day prepared to discuss the material covered in this assignment. answer"
   ]
  },
  {
   "cell_type": "markdown",
   "metadata": {},
   "source": [
    "# Pre-Class Assignment: Determinants"
   ]
  },
  {
   "cell_type": "markdown",
   "metadata": {},
   "source": [
    "# Goals for today's pre-class assignment \n",
    "\n",
    "</p>\n",
    "\n",
    "1. [Introduction to Determinants](#T1)\n",
    "1. [Properties of Determinants](#T2)\n",
    "1. [Determinants and solving $Ax=b$](#T3)\n",
    "1. [One interpretation of determinants](#T4)\n",
    "1. [Assignment wrap-up](#T4)"
   ]
  },
  {
   "cell_type": "markdown",
   "metadata": {},
   "source": [
    "----\n",
    "\n",
    "<a name=\"T1\"></a>\n",
    "# 1. Introduction to Determinants\n",
    "\n",
    "Read Section 3.1 of the textbook and answer the following questions:"
   ]
  },
  {
   "cell_type": "markdown",
   "metadata": {},
   "source": [
    "\n",
    "&#9989; <font color=red>**QUESTION:**</font> Calculate the determinant of the following matrix by hand:\n",
    "\n",
    "$$ \n",
    "\\left[\n",
    "\\begin{matrix}\n",
    "    3 & -2  \\\\\n",
    "    1 & 2\n",
    "\\end{matrix}\n",
    "\\right] \n",
    "$$"
   ]
  },
  {
   "cell_type": "markdown",
   "metadata": {},
   "source": [
    "8"
   ]
  },
  {
   "cell_type": "markdown",
   "metadata": {},
   "source": [
    "&#9989; <font color=red>**QUESTION:**</font> Calculate the determinant of the following matrix by hand:\n",
    "\n",
    "$$ \n",
    "\\left[\n",
    "\\begin{matrix}\n",
    "    1 & 2 & -3  \\\\\n",
    "    5 & 0 & 6  \\\\\n",
    "    7 & 1 & -4\n",
    "\\end{matrix}\n",
    "\\right] \n",
    "$$"
   ]
  },
  {
   "cell_type": "markdown",
   "metadata": {},
   "source": [
    "Put your answer here\n",
    "\n",
    "-6 + 84 + 40 - 15 = 103"
   ]
  },
  {
   "cell_type": "code",
   "execution_count": 3,
   "metadata": {},
   "outputs": [
    {
     "data": {
      "text/plain": [
       "103.00000000000001"
      ]
     },
     "execution_count": 3,
     "metadata": {},
     "output_type": "execute_result"
    }
   ],
   "source": [
    "B = np.array([[1,2,-3],[5,0,6],[7,1,-4]])\n",
    "np.linalg.det(B)"
   ]
  },
  {
   "cell_type": "markdown",
   "metadata": {},
   "source": [
    "&#9989; <font color=red>**QUESTION:**</font> Use ```numpy.linalg``` library to calculate the determinate of the following matrix. \n",
    "\n",
    "$$\n",
    "\\left[\n",
    "\\begin{matrix}\n",
    "    2 & 0 & 1 & -5  \\\\\n",
    "    8 & -1 & 2 & 1  \\\\\n",
    "    4 & -3 & -5 & 0 \\\\\n",
    "    1 & 4 & 8 & 2\n",
    "\\end{matrix}\n",
    "\\right] \n",
    "$$"
   ]
  },
  {
   "cell_type": "code",
   "execution_count": 1,
   "metadata": {},
   "outputs": [
    {
     "data": {
      "text/plain": [
       "229.99999999999983"
      ]
     },
     "execution_count": 1,
     "metadata": {},
     "output_type": "execute_result"
    }
   ],
   "source": [
    "#Put your answer here\n",
    "import numpy as np\n",
    "A = np.array([[2,0,1,-5],[8,-1,2,1],[4,-3,-5,0],[1,4,8,2]])\n",
    "\n",
    "np.linalg.det(A)"
   ]
  },
  {
   "cell_type": "markdown",
   "metadata": {},
   "source": [
    "----\n",
    "\n",
    "<a name=\"T2\"></a>\n",
    "# 2. Properties of Determinants\n",
    "\n",
    "Read Section 3.2 of the textbook and make sure you can use the following theorems. Answer the questions below.\n",
    "\n",
    "## Theorem 3.2 - Row Operations\n",
    "\n",
    "Some interesting properties of determinants result in applying elementary row operations. For example, let $A$ be an $n \\times n$ matrix and $c$ be a nonzero scalar.\n",
    "\n",
    "1. If a matrix $B$ is obtained from $A$ by multiplying a row (column) by $c$ then $|B| = c|A|$.\n",
    "2. If a matrix $B$ is obtained from $A$ by interchanging two rows (columns) then $|B| = -|A|$.\n",
    "3. if a matrix $B$ is obtained from $A$ by adding a multiple of one row (column) to another row (column), then $|B| = |A|$.\n",
    "\n"
   ]
  },
  {
   "cell_type": "markdown",
   "metadata": {},
   "source": [
    "## Theorem 3.3 - Singular Matrices\n",
    "\n",
    "**Definition:** A square matrix $A$ is said to be **singular** if $|A| = 0$. $A$ is **nonsingular** if $|A| \\neq 0$\n",
    "\n",
    "Now, Let $A$ be an $n \\times n$ matrix. $A$ is singular if:\n",
    "\n",
    "1. all the elements of a row (column) are zero.\n",
    "2. two rows (columns) are equal.\n",
    "3. two rows (columns) are proportional. i.e. they are the same given a scalar $c$.\n"
   ]
  },
  {
   "cell_type": "markdown",
   "metadata": {},
   "source": [
    "&#9989; <font color=red>**QUESTION:**</font> The following matrix is singular because of certain column or row properties. Give the reason:\n",
    "\n",
    "$$ \n",
    "\\left[\n",
    "\\begin{matrix}\n",
    "    1 & 5 & 5  \\\\\n",
    "    0 & -2 & -2  \\\\\n",
    "    3 & 1 & 1\n",
    "\\end{matrix}\n",
    "\\right] \n",
    "$$"
   ]
  },
  {
   "cell_type": "markdown",
   "metadata": {},
   "source": [
    "=== BEGIN MARK SCHEME ===\n",
    "=== END MARK SCHEME === "
   ]
  },
  {
   "cell_type": "markdown",
   "metadata": {},
   "source": [
    "&#9989; <font color=red>**QUESTION:**</font> The following matrix is singular because of certain column or row properties. Give the reason:\n",
    "\n",
    "$$ \n",
    "\\left[\n",
    "\\begin{matrix}\n",
    "    1 & 0 & 4  \\\\\n",
    "    0 & 1 & 9  \\\\\n",
    "    0 & 0 & 0\n",
    "\\end{matrix}\n",
    "\\right] \n",
    "$$"
   ]
  },
  {
   "cell_type": "markdown",
   "metadata": {},
   "source": [
    "one row is all zero"
   ]
  },
  {
   "cell_type": "markdown",
   "metadata": {},
   "source": [
    "## Theorem 3.4  - Determinants and Matrix Operations\n",
    "\n",
    "Let $A$ and $B$ be $n\\times n$ matrices and $c$ be a nonzero scalar.\n",
    "\n",
    "1. Determinate of a scalr multiple: $|cA| = c^n|A|$\n",
    "2. Determinate of a product: $|AB| = |A||B|$\n",
    "3. Determinate of a transpose\" $|A^t| = |A|$\n",
    "4. Determinate of an inverse: $|A^{-1}| = \\frac{1}{|A|}$ (Assuming $A^{-1}$ exists)"
   ]
  },
  {
   "cell_type": "markdown",
   "metadata": {},
   "source": [
    "&#9989; <font color=red>**QUESTION:**</font>  If $A$ is a $3\\times 3$ matrix with $|A| = 3$, use the properties of determinants to compute the following determinant:\n",
    "\n",
    "$$|2A|$$"
   ]
  },
  {
   "cell_type": "markdown",
   "metadata": {},
   "source": [
    "12"
   ]
  },
  {
   "cell_type": "markdown",
   "metadata": {},
   "source": [
    "&#9989; <font color=red>**QUESTION:**</font>  If $A$ is a $3\\times 3$ matrix with $|A| = 3$, use the properties of determinants to compute the following determinant:\n",
    "$$|A^2|$$"
   ]
  },
  {
   "cell_type": "markdown",
   "metadata": {},
   "source": [
    "9"
   ]
  },
  {
   "cell_type": "markdown",
   "metadata": {},
   "source": [
    "&#9989; <font color=red>**QUESTION:**</font>  if $A$ and $B$ are $3\\times 3$ matrices and $|A| = -3, |b|=2$, compute the following determinant:\n",
    "\n",
    "$$|AB|$$\n"
   ]
  },
  {
   "cell_type": "markdown",
   "metadata": {},
   "source": [
    "-6"
   ]
  },
  {
   "cell_type": "markdown",
   "metadata": {},
   "source": [
    "&#9989; <font color=red>**QUESTION:**</font>  if $A$ and $B$ are $3\\times 3$ matrices and $|A| = -3, |B|=2$, compute the following determinant:\n",
    "\n",
    "$$|2AB^{-1}|$$"
   ]
  },
  {
   "cell_type": "markdown",
   "metadata": {},
   "source": [
    "-6"
   ]
  },
  {
   "cell_type": "markdown",
   "metadata": {},
   "source": [
    "### Triangular matrices\n",
    "\n",
    "**Definition:** An **upper triangular matrix** has nonzero elements lie on or above the main diagonal and zero elements below the main diagonal. For example:\n",
    "\n",
    "\n",
    "$$ A = \n",
    "\\left[\n",
    "\\begin{matrix}\n",
    "    2 & -1 & 9 & 4  \\\\\n",
    "    0 & 3 & 0 & 6 \\\\\n",
    "    0 & 0 & -5 & 3 \\\\\n",
    "    0 & 0 & 0 & 1\n",
    "\\end{matrix}\n",
    "\\right] \n",
    "$$\n",
    "\n",
    "The determinate of an *upper triangle matrix* is the product of the diagonal elements of the matrix $A$.  \n",
    "\n",
    "Also, per Theorem 3.4.3 the determinate of a *lower triangle matrix* is also the product of the diagonal elements. "
   ]
  },
  {
   "cell_type": "markdown",
   "metadata": {},
   "source": [
    "&#9989; <font color=red>**QUESTION:**</font>   What is the determinate of matrix $A$?"
   ]
  },
  {
   "cell_type": "markdown",
   "metadata": {},
   "source": [
    "-30"
   ]
  },
  {
   "cell_type": "markdown",
   "metadata": {},
   "source": [
    "### Using Properties of determinants:\n",
    "Here is a great video showing how you can use the properties of determinants:"
   ]
  },
  {
   "cell_type": "code",
   "execution_count": 4,
   "metadata": {},
   "outputs": [
    {
     "data": {
      "image/jpeg": "[encoded data removed]",
      "text/html": [
       "\n",
       "        <iframe\n",
       "            width=\"640\"\n",
       "            height=\"360\"\n",
       "            src=\"https://www.youtube.com/embed/aKX5_DucNq8\"\n",
       "            frameborder=\"0\"\n",
       "            allowfullscreen\n",
       "        ></iframe>\n",
       "        "
      ],
      "text/plain": [
       "<IPython.lib.display.YouTubeVideo at 0x59c5190>"
      ]
     },
     "execution_count": 4,
     "metadata": {},
     "output_type": "execute_result"
    }
   ],
   "source": [
    "from IPython.display import YouTubeVideo\n",
    "YouTubeVideo(\"aKX5_DucNq8\",width=640,height=360)"
   ]
  },
  {
   "cell_type": "markdown",
   "metadata": {},
   "source": [
    "&#9989; <font color=red>**QUESTION (A challenging one):**</font>   What is the determinate of the following matrix? \n",
    "\n",
    "\n",
    "$$ \n",
    "\\left[\n",
    "\\begin{matrix}\n",
    "    1 & a & a^2 & a^3 & a^4 \\\\\n",
    "    1 & b & b^2 & b^3 & b^4 \\\\\n",
    "    1 & c & c^2 & c^3 & c^4 \\\\\n",
    "    1 & d & d^2 & d^3 & d^4 \\\\\n",
    "    1 & e & e^2 & e^3 & e^4 \n",
    "\\end{matrix}\n",
    "\\right] \n",
    "$$\n"
   ]
  },
  {
   "cell_type": "markdown",
   "metadata": {},
   "source": [
    "Put your answer here\n",
    "\n",
    "(e-a)(d-a)(c-a)(b-a)(e-d)"
   ]
  },
  {
   "cell_type": "markdown",
   "metadata": {},
   "source": [
    "----\n",
    "\n",
    "<a name=\"T3\"></a>\n",
    "# 3. Determinants and solving\n",
    "\n",
    "Read Section 3.3 of the textbook and answer the following questions:"
   ]
  },
  {
   "cell_type": "markdown",
   "metadata": {},
   "source": [
    "&#9989; <font color=red>**QUESTION:**</font>   Determine wether the following matrices have inverse without calculating the inverse or using python. Make sure you justify your answer:\n",
    "\n",
    "$$ (a)\n",
    "\\left[\n",
    "\\begin{matrix}\n",
    "    4 & -2 & 9  \\\\\n",
    "    0 & 0 & 3   \\\\\n",
    "    0 & 0 & 6 \n",
    "\\end{matrix}\n",
    "\\right] \n",
    "$$"
   ]
  },
  {
   "cell_type": "markdown",
   "metadata": {},
   "source": [
    "No, the diagonal has a 0, determinant is 0"
   ]
  },
  {
   "cell_type": "markdown",
   "metadata": {},
   "source": [
    "$$ b)\n",
    "\\left[\n",
    "\\begin{matrix}\n",
    "    1 & 2 & 3  \\\\\n",
    "    2 & 4 & 6  \\\\\n",
    "    7 & 3 & -1 \n",
    "\\end{matrix}\n",
    "\\right] \n",
    "$$"
   ]
  },
  {
   "cell_type": "markdown",
   "metadata": {},
   "source": [
    "No, second row is the first row * 2, so determinant is 0"
   ]
  },
  {
   "cell_type": "markdown",
   "metadata": {},
   "source": [
    "$$ c)\n",
    "\\left[\n",
    "\\begin{matrix}\n",
    "    4 & 0 & 5  \\\\\n",
    "    1 & 3 & 7  \\\\\n",
    "    2 & 0 & 6 \n",
    "\\end{matrix}\n",
    "\\right] \n",
    "$$"
   ]
  },
  {
   "cell_type": "markdown",
   "metadata": {},
   "source": [
    "yes"
   ]
  },
  {
   "cell_type": "code",
   "execution_count": 5,
   "metadata": {},
   "outputs": [
    {
     "data": {
      "text/plain": [
       "42.00000000000001"
      ]
     },
     "execution_count": 5,
     "metadata": {},
     "output_type": "execute_result"
    }
   ],
   "source": [
    "C = np.array([[4,0,5],[1,3,7],[2,0,6]])\n",
    "np.linalg.det(C)"
   ]
  },
  {
   "cell_type": "markdown",
   "metadata": {},
   "source": [
    "$$ d)\n",
    "\\left[\n",
    "\\begin{matrix}\n",
    "    1 & -2 & 3  \\\\\n",
    "    4 & -3 & 2  \\\\\n",
    "    1 & -1 & 1 \n",
    "\\end{matrix}\n",
    "\\right] \n",
    "$$"
   ]
  },
  {
   "cell_type": "markdown",
   "metadata": {},
   "source": [
    "no, i dunno why"
   ]
  },
  {
   "cell_type": "code",
   "execution_count": 6,
   "metadata": {},
   "outputs": [
    {
     "data": {
      "text/plain": [
       "0.0"
      ]
     },
     "execution_count": 6,
     "metadata": {},
     "output_type": "execute_result"
    }
   ],
   "source": [
    "D = np.array([[1,-2,3],[4,-3,2],[1,-1,1]])\n",
    "\n",
    "np.linalg.det(D)"
   ]
  },
  {
   "cell_type": "markdown",
   "metadata": {},
   "source": [
    "----\n",
    "\n",
    "<a name=\"T4\"></a>\n",
    "# 4. One interpretation of determinants\n",
    "\n",
    "The following is an application of determinats. Watch this!"
   ]
  },
  {
   "cell_type": "code",
   "execution_count": 7,
   "metadata": {},
   "outputs": [
    {
     "data": {
      "image/jpeg": "[encoded data removed]",
      "text/html": [
       "\n",
       "        <iframe\n",
       "            width=\"640\"\n",
       "            height=\"360\"\n",
       "            src=\"https://www.youtube.com/embed/Ip3X9LOh2dk\"\n",
       "            frameborder=\"0\"\n",
       "            allowfullscreen\n",
       "        ></iframe>\n",
       "        "
      ],
      "text/plain": [
       "<IPython.lib.display.YouTubeVideo at 0x59c51d0>"
      ]
     },
     "execution_count": 7,
     "metadata": {},
     "output_type": "execute_result"
    }
   ],
   "source": [
    "from IPython.display import YouTubeVideo\n",
    "YouTubeVideo(\"Ip3X9LOh2dk\",width=640,height=360)"
   ]
  },
  {
   "cell_type": "markdown",
   "metadata": {},
   "source": [
    "For fun, we will recreate some of the video's visualizations in python. \n",
    "It was a little tricky to get the aspect ratios correct but here is some code I managed to get to work. "
   ]
  },
  {
   "cell_type": "code",
   "execution_count": 8,
   "metadata": {},
   "outputs": [],
   "source": [
    "%matplotlib inline\n",
    "import matplotlib.pyplot as plt\n",
    "from mpl_toolkits.mplot3d import Axes3D\n",
    "from mpl_toolkits.mplot3d.art3d import Poly3DCollection, Line3DCollection\n",
    "import numpy as np"
   ]
  },
  {
   "cell_type": "code",
   "execution_count": 9,
   "metadata": {},
   "outputs": [],
   "source": [
    "# Lets define somme points that form a Unit Cube\n",
    "points = np.array([[0, 0, 0],\n",
    "                  [1, 0, 0 ],\n",
    "                  [1, 1, 0],\n",
    "                  [0, 1, 0],\n",
    "                  [0, 0, 1],\n",
    "                  [1, 0, 1 ],\n",
    "                  [1, 1, 1],\n",
    "                  [0, 1, 1]])\n",
    "\n",
    "points = np.matrix(points)"
   ]
  },
  {
   "cell_type": "code",
   "execution_count": 10,
   "metadata": {},
   "outputs": [],
   "source": [
    "#Here is some code to build cube from https://stackoverflow.com/questions/44881885/python-draw-3d-cube\n",
    "\n",
    "def plot3dcube(Z):\n",
    "    \n",
    "    if type(Z) == np.matrix:\n",
    "        Z = np.asarray(Z)\n",
    "\n",
    "    fig = plt.figure()\n",
    "    ax = fig.add_subplot(111, projection='3d')\n",
    "\n",
    "    r = [-1,1]\n",
    "\n",
    "    X, Y = np.meshgrid(r, r)\n",
    "    # plot vertices\n",
    "    ax.scatter3D(Z[:, 0], Z[:, 1], Z[:, 2])\n",
    "\n",
    "    # list of sides' polygons of figure\n",
    "    verts = [[Z[0],Z[1],Z[2],Z[3]],\n",
    "     [Z[4],Z[5],Z[6],Z[7]], \n",
    "     [Z[0],Z[1],Z[5],Z[4]], \n",
    "     [Z[2],Z[3],Z[7],Z[6]], \n",
    "     [Z[1],Z[2],Z[6],Z[5]],\n",
    "     [Z[4],Z[7],Z[3],Z[0]], \n",
    "     [Z[2],Z[3],Z[7],Z[6]]]\n",
    "\n",
    "    #alpha transparency was't working found fix here: \n",
    "    # https://stackoverflow.com/questions/23403293/3d-surface-not-transparent-inspite-of-setting-alpha\n",
    "    # plot sides\n",
    "    ax.add_collection3d(Poly3DCollection(verts, \n",
    "     facecolors=(0,0,1,0.25), linewidths=1, edgecolors='r'))\n",
    "    \n",
    "    ax.set_xlabel('X')\n",
    "    ax.set_ylabel('Y')\n",
    "    ax.set_zlabel('Z')\n",
    "    \n",
    "    ## Weird trick to get the axpect ratio to work.\n",
    "    ## From https://stackoverflow.com/questions/13685386/matplotlib-equal-unit-length-with-equal-aspect-ratio-z-axis-is-not-equal-to\n",
    "    ax.set_aspect('equal')\n",
    "    mx = np.amax(Z, axis=0)\n",
    "    mn = np.amin(Z, axis=0)\n",
    "    max_range = mx-mn\n",
    "\n",
    "    # Create cubic bounding box to simulate equal aspect ratio\n",
    "    Xb = 0.5*max_range.max()*np.mgrid[-1:2:2,-1:2:2,-1:2:2][0].flatten() + 0.5*(max_range[0])\n",
    "    Yb = 0.5*max_range.max()*np.mgrid[-1:2:2,-1:2:2,-1:2:2][1].flatten() + 0.5*(max_range[1])\n",
    "    Zb = 0.5*max_range.max()*np.mgrid[-1:2:2,-1:2:2,-1:2:2][2].flatten() + 0.5*(max_range[2])\n",
    "    # Comment or uncomment following both lines to test the fake bounding box:\n",
    "    for xb, yb, zb in zip(Xb, Yb, Zb):\n",
    "       ax.plot([xb], [yb], [zb], 'w')\n",
    "\n",
    "    plt.show()"
   ]
  },
  {
   "cell_type": "code",
   "execution_count": 11,
   "metadata": {},
   "outputs": [
    {
     "data": {
      "image/png": "[encoded data removed]",
      "text/plain": [
       "<Figure size 432x288 with 1 Axes>"
      ]
     },
     "metadata": {
      "needs_background": "light"
     },
     "output_type": "display_data"
    }
   ],
   "source": [
    "plot3dcube(points)"
   ]
  },
  {
   "cell_type": "markdown",
   "metadata": {},
   "source": [
    "<font color='red'>**QUESTION:**</font> Generate the $3\\times 3$ matrix used in the video (around 6'50'') and apply that matrix to the points in the unit cube.  Use ```plot3dcube``` to show the resulting transformed points. "
   ]
  },
  {
   "cell_type": "code",
   "execution_count": 13,
   "metadata": {},
   "outputs": [
    {
     "data": {
      "image/png": "[encoded data removed]",
      "text/plain": [
       "<Figure size 432x288 with 1 Axes>"
      ]
     },
     "metadata": {
      "needs_background": "light"
     },
     "output_type": "display_data"
    }
   ],
   "source": [
    "#Put the answer to the above question here. \n",
    "transform = np.array([[1,0,1],[0.5,1,1.5],[1,0,1]])\n",
    "new_points = points * transform\n",
    "plot3dcube(new_points)"
   ]
  },
  {
   "cell_type": "markdown",
   "metadata": {},
   "source": [
    "&#9989; <font color='red'>**QUESTION:**</font> In the video, the determinant was shown to be what value in 2D? "
   ]
  },
  {
   "cell_type": "markdown",
   "metadata": {},
   "source": [
    "0"
   ]
  },
  {
   "cell_type": "markdown",
   "metadata": {},
   "source": [
    "----\n",
    "\n",
    "<a name=\"T5\"></a>\n",
    "# 5. Assignment wrap-up\n",
    "\n",
    "Please fill out the form that appears when you run the code below.  **You must completely fill this out in order to receive credit for the assignment!**\n",
    "\n",
    "[Direct Link to Google Form](https://cmse.msu.edu/cmse314-pc-survey)\n",
    "\n",
    "\n",
    "If you have trouble with the embedded form, please make sure you log on with your MSU google account at [googleapps.msu.edu](https://googleapps.msu.edu) and then click on the direct link above."
   ]
  },
  {
   "cell_type": "markdown",
   "metadata": {},
   "source": [
    "&#9989; <font color=red>**Assignment-Specific QUESTION:**</font> There is no Assignment specific question for this notebook. You can just say \"none\". However, be prepaird to share your answers in class."
   ]
  },
  {
   "cell_type": "markdown",
   "metadata": {},
   "source": [
    "Put your answer to the above question here"
   ]
  },
  {
   "cell_type": "markdown",
   "metadata": {},
   "source": [
    "&#9989; <font color=red>**QUESTION:**</font>  Summarize what you did in this assignment."
   ]
  },
  {
   "cell_type": "markdown",
   "metadata": {},
   "source": [
    "Put your answer to the above question here"
   ]
  },
  {
   "cell_type": "markdown",
   "metadata": {},
   "source": [
    "&#9989; <font color=red>**QUESTION:**</font>  What questions do you have, if any, about any of the topics discussed in this assignment after working through the jupyter notebook?"
   ]
  },
  {
   "cell_type": "markdown",
   "metadata": {},
   "source": [
    "Put your answer to the above question here"
   ]
  },
  {
   "cell_type": "markdown",
   "metadata": {},
   "source": [
    "&#9989; <font color=red>**QUESTION:**</font>  How well do you feel this assignment helped you to achieve a better understanding of the above mentioned topic(s)?"
   ]
  },
  {
   "cell_type": "markdown",
   "metadata": {},
   "source": [
    "Put your answer to the above question here"
   ]
  },
  {
   "cell_type": "markdown",
   "metadata": {},
   "source": [
    "&#9989; <font color=red>**QUESTION:**</font> What was the **most** challenging part of this assignment for you? "
   ]
  },
  {
   "cell_type": "markdown",
   "metadata": {},
   "source": [
    "Put your answer to the above question here"
   ]
  },
  {
   "cell_type": "markdown",
   "metadata": {},
   "source": [
    "&#9989; <font color=red>**QUESTION:**</font> What was the **least** challenging part of this assignment for you? "
   ]
  },
  {
   "cell_type": "markdown",
   "metadata": {},
   "source": [
    "Put your answer to the above question here"
   ]
  },
  {
   "cell_type": "markdown",
   "metadata": {},
   "source": [
    "&#9989; <font color=red>**QUESTION:**</font>  What kind of additional questions or support, if any, do you feel you need to have a better understanding of the content in this assignment?"
   ]
  },
  {
   "cell_type": "markdown",
   "metadata": {},
   "source": [
    "Put your answer to the above question here"
   ]
  },
  {
   "cell_type": "markdown",
   "metadata": {},
   "source": [
    "&#9989; <font color=red>**QUESTION:**</font>  Do you have any further questions or comments about this material, or anything else that's going on in class?"
   ]
  },
  {
   "cell_type": "markdown",
   "metadata": {},
   "source": [
    "Put your answer to the above question here"
   ]
  },
  {
   "cell_type": "markdown",
   "metadata": {},
   "source": [
    "&#9989; <font color=red>**QUESTION:**</font> Approximately how long did this pre-class assignment take?"
   ]
  },
  {
   "cell_type": "markdown",
   "metadata": {},
   "source": [
    "Put your answer to the above question here"
   ]
  },
  {
   "cell_type": "code",
   "execution_count": null,
   "metadata": {},
   "outputs": [],
   "source": [
    "from IPython.display import HTML\n",
    "HTML(\n",
    "\"\"\"\n",
    "<iframe \n",
    "\tsrc=\"https://cmse.msu.edu/cmse314-pc-survey\" \n",
    "\twidth=\"100%\" \n",
    "\theight=\"1000px\" \n",
    "\tframeborder=\"0\" \n",
    "\tmarginheight=\"0\" \n",
    "\tmarginwidth=\"0\">\n",
    "\tLoading...\n",
    "</iframe>\n",
    "\"\"\"\n",
    ")"
   ]
  },
  {
   "cell_type": "markdown",
   "metadata": {},
   "source": [
    "---------\n",
    "### Congratulations, we're done!\n",
    "\n",
    "To get credit for this assignment you must fill out and submit the above Google From on or before the assignment due date."
   ]
  },
  {
   "cell_type": "markdown",
   "metadata": {},
   "source": [
    "### Course Resources:\n",
    "\n",
    "- [Syllabus](https://docs.google.com/document/d/e/2PACX-1vRAFflQFXulzSMwWcyr_SEd6piEzHLWTjGkwx49D6H6FZxQGWEHrKMDiIaV3Pu6adAQ-wjlg3IXptjM/pub)\n",
    "- [Preliminary Schedule](https://docs.google.com/spreadsheets/d/e/2PACX-1vS5UoXTmHDnF99kTHOiHIWuOBG7iqts-8EsbpoJHayRTB7F8eI4SfMR0MVp7dt0RQrMkNTVW6M1x-wY/pubhtml)\n",
    "- [Course D2L Page](https://d2l.msu.edu/d2l/home/832635)"
   ]
  },
  {
   "cell_type": "markdown",
   "metadata": {},
   "source": [
    "&#169; Copyright 2019,  Michigan State University Board of Trustees"
   ]
  }
 ],
 "metadata": {
  "anaconda-cloud": {},
  "kernelspec": {
   "display_name": "Python 3",
   "language": "python",
   "name": "python3"
  },
  "language_info": {
   "codemirror_mode": {
    "name": "ipython",
    "version": 3
   },
   "file_extension": ".py",
   "mimetype": "text/x-python",
   "name": "python",
   "nbconvert_exporter": "python",
   "pygments_lexer": "ipython3",
   "version": "3.6.3"
  }
 },
 "nbformat": 4,
 "nbformat_minor": 2
}
