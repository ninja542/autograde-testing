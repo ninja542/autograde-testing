{
 "cells": [
  {
   "cell_type": "markdown",
   "metadata": {},
   "source": [
    "In order to successfully complete this assignment you must do the required reading, watch the provided videos and complete all instructions.  The embedded Google form must be entirely filled out and submitted on or before **11:59pm on 02/03/2020**.  Students must come to class the next day prepared to discuss the material covered in this assignment."
   ]
  },
  {
   "cell_type": "code",
   "execution_count": null,
   "metadata": {},
   "outputs": [],
   "source": [
    "\"\"\"Implements the hashids algorithm in python. For more information, visit\n",
    "http://www.hashids.org/. Compatible with Python 2.6, 2.7 and 3\"\"\"\n",
    "\n",
    "import warnings\n",
    "from functools import wraps\n",
    "from math import ceil\n",
    "\n",
    "__version__ = '1.2.0'\n",
    "\n",
    "RATIO_SEPARATORS = 3.5\n",
    "RATIO_GUARDS = 12\n",
    "\n",
    "try:\n",
    "    StrType = basestring\n",
    "except NameError:\n",
    "    StrType = str\n",
    "\n",
    "\n",
    "def _is_str(candidate):\n",
    "    \"\"\"Returns whether a value is a string.\"\"\"\n",
    "    return isinstance(candidate, StrType)\n",
    "\n",
    "\n",
    "def _is_uint(number):\n",
    "    \"\"\"Returns whether a value is an unsigned integer.\"\"\"\n",
    "    try:\n",
    "        return number == int(number) and number >= 0\n",
    "    except ValueError:\n",
    "        return False\n",
    "\n",
    "\n",
    "def _split(string, splitters):\n",
    "    \"\"\"Splits a string into parts at multiple characters\"\"\"\n",
    "    part = ''\n",
    "    for character in string:\n",
    "        if character in splitters:\n",
    "            yield part\n",
    "            part = ''\n",
    "        else:\n",
    "            part += character\n",
    "    yield part\n",
    "\n",
    "\n",
    "def _hash(number, alphabet):\n",
    "    \"\"\"Hashes `number` using the given `alphabet` sequence.\"\"\"\n",
    "    hashed = ''\n",
    "    len_alphabet = len(alphabet)\n",
    "    while True:\n",
    "        hashed = alphabet[number % len_alphabet] + hashed\n",
    "        number //= len_alphabet\n",
    "        if not number:\n",
    "            return hashed\n",
    "\n",
    "\n",
    "def _unhash(hashed, alphabet):\n",
    "    \"\"\"Restores a number tuple from hashed using the given `alphabet` index.\"\"\"\n",
    "    number = 0\n",
    "    len_alphabet = len(alphabet)\n",
    "    for character in hashed:\n",
    "        position = alphabet.index(character)\n",
    "        number *= len_alphabet\n",
    "        number += position\n",
    "    return number\n",
    "\n",
    "\n",
    "def _reorder(string, salt):\n",
    "    \"\"\"Reorders `string` according to `salt`.\"\"\"\n",
    "    len_salt = len(salt)\n",
    "\n",
    "    if len_salt != 0:\n",
    "        string = list(string)\n",
    "        index, integer_sum = 0, 0\n",
    "        for i in range(len(string) - 1, 0, -1):\n",
    "            integer = ord(salt[index])\n",
    "            integer_sum += integer\n",
    "            j = (integer + index + integer_sum) % i\n",
    "            string[i], string[j] = string[j], string[i]\n",
    "            index = (index + 1) % len_salt\n",
    "        string = ''.join(string)\n",
    "\n",
    "    return string\n",
    "\n",
    "\n",
    "def _index_from_ratio(dividend, divisor):\n",
    "    \"\"\"Returns the ceiled ratio of two numbers as int.\"\"\"\n",
    "    return int(ceil(float(dividend) / divisor))\n",
    "\n",
    "\n",
    "def _ensure_length(encoded, min_length, alphabet, guards, values_hash):\n",
    "    \"\"\"Ensures the minimal hash length\"\"\"\n",
    "    len_guards = len(guards)\n",
    "    guard_index = (values_hash + ord(encoded[0])) % len_guards\n",
    "    encoded = guards[guard_index] + encoded\n",
    "\n",
    "    if len(encoded) < min_length:\n",
    "        guard_index = (values_hash + ord(encoded[2])) % len_guards\n",
    "        encoded += guards[guard_index]\n",
    "\n",
    "    split_at = len(alphabet) // 2\n",
    "    while len(encoded) < min_length:\n",
    "        alphabet = _reorder(alphabet, alphabet)\n",
    "        encoded = alphabet[split_at:] + encoded + alphabet[:split_at]\n",
    "        excess = len(encoded) - min_length\n",
    "        if excess > 0:\n",
    "            from_index = excess // 2\n",
    "            encoded = encoded[from_index:from_index+min_length]\n",
    "\n",
    "    return encoded\n",
    "\n",
    "\n",
    "def _encode(values, salt, min_length, alphabet, separators, guards):\n",
    "    \"\"\"Helper function that does the hash building without argument checks.\"\"\"\n",
    "\n",
    "    len_alphabet = len(alphabet)\n",
    "    len_separators = len(separators)\n",
    "    values_hash = sum(x % (i + 100) for i, x in enumerate(values))\n",
    "    encoded = lottery = alphabet[values_hash % len(alphabet)]\n",
    "\n",
    "    for i, value in enumerate(values):\n",
    "        alphabet_salt = (lottery + salt + alphabet)[:len_alphabet]\n",
    "        alphabet = _reorder(alphabet, alphabet_salt)\n",
    "        last = _hash(value, alphabet)\n",
    "        encoded += last\n",
    "        value %= ord(last[0]) + i\n",
    "        encoded += separators[value % len_separators]\n",
    "\n",
    "    encoded = encoded[:-1]  # cut off last separator\n",
    "\n",
    "    return (encoded if len(encoded) >= min_length else\n",
    "            _ensure_length(encoded, min_length, alphabet, guards, values_hash))\n",
    "\n",
    "\n",
    "\n",
    "def _deprecated(func):\n",
    "    \"\"\"A decorator that warns about deprecation when the passed-in function is\n",
    "    invoked.\"\"\"\n",
    "    @wraps(func)\n",
    "    def with_warning(*args, **kwargs):\n",
    "        warnings.warn(\n",
    "            ('The %s method is deprecated and will be removed in v2.*.*' %\n",
    "             func.__name__),\n",
    "            DeprecationWarning\n",
    "        )\n",
    "        return func(*args, **kwargs)\n",
    "    return with_warning\n",
    "\n",
    "\n",
    "class Hashids(object):\n",
    "    \"\"\"Hashes and restores values using the \"hashids\" algorithm.\"\"\"\n",
    "    ALPHABET = 'abcdefghijklmnopqrstuvwxyzABCDEFGHIJKLMNOPQRSTUVWXYZ1234567890'\n",
    "\n",
    "    def __init__(self, salt='', min_length=0, alphabet=ALPHABET):\n",
    "        \"\"\"\n",
    "        Initializes a Hashids object with salt, minimum length, and alphabet.\n",
    "        :param salt: A string influencing the generated hash ids.\n",
    "        :param min_length: The minimum length for generated hashes\n",
    "        :param alphabet: The characters to use for the generated hash ids.\n",
    "        \"\"\"\n",
    "        self._min_length = max(int(min_length), 0)\n",
    "        self._salt = salt\n",
    "\n",
    "        separators = ''.join(x for x in 'cfhistuCFHISTU' if x in alphabet)\n",
    "        alphabet = ''.join(x for i, x in enumerate(alphabet)\n",
    "                           if alphabet.index(x) == i and x not in separators)\n",
    "\n",
    "        len_alphabet, len_separators = len(alphabet), len(separators)\n",
    "        if len_alphabet + len_separators < 16:\n",
    "            raise ValueError('Alphabet must contain at least 16 '\n",
    "                             'unique characters.')\n",
    "\n",
    "        separators = _reorder(separators, salt)\n",
    "\n",
    "        min_separators = _index_from_ratio(len_alphabet, RATIO_SEPARATORS)\n",
    "\n",
    "        number_of_missing_separators = min_separators - len_separators\n",
    "        if number_of_missing_separators > 0:\n",
    "            separators += alphabet[:number_of_missing_separators]\n",
    "            alphabet = alphabet[number_of_missing_separators:]\n",
    "            len_alphabet = len(alphabet)\n",
    "\n",
    "        alphabet = _reorder(alphabet, salt)\n",
    "        num_guards = _index_from_ratio(len_alphabet, RATIO_GUARDS)\n",
    "        if len_alphabet < 3:\n",
    "            guards = separators[:num_guards]\n",
    "            separators = separators[num_guards:]\n",
    "        else:\n",
    "            guards = alphabet[:num_guards]\n",
    "            alphabet = alphabet[num_guards:]\n",
    "\n",
    "        self._alphabet = alphabet\n",
    "        self._guards = guards\n",
    "        self._separators = separators\n",
    "\n",
    "        # Support old API\n",
    "        self.decrypt = _deprecated(self.decode)\n",
    "        self.encrypt = _deprecated(self.encode)\n",
    "\n",
    "    def encode(self, *values):\n",
    "        \"\"\"Builds a hash from the passed `values`.\n",
    "        :param values The values to transform into a hashid\n",
    "        >>> hashids = Hashids('arbitrary salt', 16, 'abcdefghijkl0123456')\n",
    "        >>> hashids.encode(1, 23, 456)\n",
    "        '1d6216i30h53elk3'\n",
    "        \"\"\"\n",
    "        if not (values and all(_is_uint(x) for x in values)):\n",
    "            return ''\n",
    "\n",
    "        return _encode(values, self._salt, self._min_length, self._alphabet,\n",
    "                       self._separators, self._guards)\n",
    "\n",
    "    def decode(self, hashid):\n",
    "        \"\"\"Restore a tuple of numbers from the passed `hashid`.\n",
    "        :param hashid The hashid to decode\n",
    "        >>> hashids = Hashids('arbitrary salt', 16, 'abcdefghijkl0123456')\n",
    "        >>> hashids.decode('1d6216i30h53elk3')\n",
    "        (1, 23, 456)\n",
    "        \"\"\"\n",
    "        if not hashid or not _is_str(hashid):\n",
    "            return ()\n",
    "        try:\n",
    "            numbers = tuple(_decode(hashid, self._salt, self._alphabet,\n",
    "                                    self._separators, self._guards))\n",
    "\n",
    "            return numbers if hashid == self.encode(*numbers) else ()\n",
    "        except ValueError:\n",
    "            return ()\n",
    "\n",
    "    def encode_hex(self, hex_str):\n",
    "        \"\"\"Converts a hexadecimal string (e.g. a MongoDB id) to a hashid.\n",
    "        :param hex_str The hexadecimal string to encodes\n",
    "        >>> Hashids.encode_hex('507f1f77bcf86cd799439011')\n",
    "        'y42LW46J9luq3Xq9XMly'\n",
    "        \"\"\"\n",
    "        numbers = (int('1' + hex_str[i:i+12], 16)\n",
    "                   for i in range(0, len(hex_str), 12))\n",
    "        try:\n",
    "            return self.encode(*numbers)\n",
    "        except ValueError:\n",
    "            return ''\n",
    "\n",
    "    def decode_hex(self, hashid):\n",
    "        \"\"\"Restores a hexadecimal string (e.g. a MongoDB id) from a hashid.\n",
    "        :param hashid The hashid to decode\n",
    "        >>> Hashids.decode_hex('y42LW46J9luq3Xq9XMly')\n",
    "        '507f1f77bcf86cd799439011'\n",
    "        \"\"\"\n",
    "        return ''.join(('%x' % x)[1:] for x in self.decode(hashid))\n",
    "    \n",
    "hashids = Hashids(salt=\"mth314\", min_length=10)"
   ]
  },
  {
   "cell_type": "markdown",
   "metadata": {},
   "source": [
    "# Pre-Class Assignment: Determinants"
   ]
  },
  {
   "cell_type": "markdown",
   "metadata": {},
   "source": [
    "# Goals for today's pre-class assignment \n",
    "\n",
    "</p>\n",
    "\n",
    "1. [Introduction to Determinants](#T1)\n",
    "1. [Properties of Determinants](#T2)\n",
    "1. [Determinants and solving $Ax=b$](#T3)\n",
    "1. [One interpretation of determinants](#T4)\n",
    "1. [Assignment wrap-up](#T4)"
   ]
  },
  {
   "cell_type": "markdown",
   "metadata": {},
   "source": [
    "----\n",
    "\n",
    "<a name=\"T1\"></a>\n",
    "# 1. Introduction to Determinants\n",
    "\n",
    "Read Section 3.1 of the textbook and answer the following questions:"
   ]
  },
  {
   "cell_type": "markdown",
   "metadata": {},
   "source": [
    "\n",
    "&#9989; <font color=red>**QUESTION:**</font> Calculate the determinant of the following matrix by hand:\n",
    "\n",
    "$$ \n",
    "\\left[\n",
    "\\begin{matrix}\n",
    "    3 & -2  \\\\\n",
    "    1 & 2\n",
    "\\end{matrix}\n",
    "\\right] \n",
    "$$"
   ]
  },
  {
   "cell_type": "code",
   "execution_count": null,
   "metadata": {
    "nbgrader": {
     "grade": false,
     "grade_id": "cell-f5c53bca16bbe236",
     "locked": false,
     "schema_version": 3,
     "solution": true,
     "task": false
    }
   },
   "outputs": [],
   "source": [
    "# Set the variable a to your answer\n",
    "\n",
    "a = 0\n",
    "### BEGIN SOLUTION\n",
    "### END SOLUTION"
   ]
  },
  {
   "cell_type": "code",
   "execution_count": null,
   "metadata": {
    "nbgrader": {
     "grade": true,
     "grade_id": "cell-9d245cee5f4023bf",
     "locked": true,
     "points": 1,
     "schema_version": 3,
     "solution": false,
     "task": false
    }
   },
   "outputs": [],
   "source": [
    "assert hashids.encode(a) == \"Y4Zk37kEWQ\""
   ]
  },
  {
   "cell_type": "markdown",
   "metadata": {},
   "source": [
    "&#9989; <font color=red>**QUESTION:**</font> Calculate the determinant of the following matrix by hand:\n",
    "\n",
    "$$ \n",
    "\\left[\n",
    "\\begin{matrix}\n",
    "    1 & 2 & -3  \\\\\n",
    "    5 & 0 & 6  \\\\\n",
    "    7 & 1 & -4\n",
    "\\end{matrix}\n",
    "\\right] \n",
    "$$"
   ]
  },
  {
   "cell_type": "code",
   "execution_count": null,
   "metadata": {
    "nbgrader": {
     "grade": false,
     "grade_id": "cell-a04dc0a2a396ea8c",
     "locked": false,
     "schema_version": 3,
     "solution": true,
     "task": false
    }
   },
   "outputs": [],
   "source": [
    "# Set the variable a to your answer\n",
    "\n",
    "a = 0\n",
    "### BEGIN SOLUTION\n",
    "### END SOLUTION"
   ]
  },
  {
   "cell_type": "code",
   "execution_count": null,
   "metadata": {
    "nbgrader": {
     "grade": true,
     "grade_id": "cell-1b82cd905bcd90a1",
     "locked": true,
     "points": 1,
     "schema_version": 3,
     "solution": false,
     "task": false
    }
   },
   "outputs": [],
   "source": [
    "assert hashids.encode(a) == \"yGZMJEoR6v\""
   ]
  },
  {
   "cell_type": "markdown",
   "metadata": {},
   "source": [
    "&#9989; <font color=red>**QUESTION:**</font> Use the ```numpy.linalg``` library to calculate the determinant of the following matrix. \n",
    "\n",
    "$$\n",
    "\\left[\n",
    "\\begin{matrix}\n",
    "    2 & 0 & 1 & -5  \\\\\n",
    "    8 & -1 & 2 & 1  \\\\\n",
    "    4 & -3 & -5 & 0 \\\\\n",
    "    1 & 4 & 8 & 2\n",
    "\\end{matrix}\n",
    "\\right] \n",
    "$$"
   ]
  },
  {
   "cell_type": "code",
   "execution_count": null,
   "metadata": {},
   "outputs": [],
   "source": [
    "#Put your answer here"
   ]
  },
  {
   "cell_type": "markdown",
   "metadata": {},
   "source": [
    "----\n",
    "\n",
    "<a name=\"T2\"></a>\n",
    "# 2. Properties of Determinants\n",
    "\n",
    "Read Section 3.2 of the textbook and make sure you can use the following theorems. Answer the questions below.\n",
    "\n",
    "## Theorem 3.2 - Row Operations\n",
    "\n",
    "Some interesting properties of determinants result in applying elementary row operations. For example, let $A$ be an $n \\times n$ matrix and $c$ be a nonzero scalar.\n",
    "\n",
    "1. If a matrix $B$ is obtained from $A$ by multiplying a row (column) by $c$ then $|B| = c|A|$.\n",
    "2. If a matrix $B$ is obtained from $A$ by interchanging two rows (columns) then $|B| = -|A|$.\n",
    "3. if a matrix $B$ is obtained from $A$ by adding a multiple of one row (column) to another row (column), then $|B| = |A|$.\n",
    "\n"
   ]
  },
  {
   "cell_type": "markdown",
   "metadata": {},
   "source": [
    "## Theorem 3.3 - Singular Matrices\n",
    "\n",
    "**Definition:** A square matrix $A$ is said to be **singular** if $|A| = 0$. $A$ is **nonsingular** if $|A| \\neq 0$\n",
    "\n",
    "Now, Let $A$ be an $n \\times n$ matrix. $A$ is singular if any of these is true:\n",
    "\n",
    "1. all the elements of a row (column) are zero.\n",
    "2. two rows (columns) are equal.\n",
    "3. two rows (columns) are proportional. i.e. one row (column) is the same as another row (column) multiplied by $c$.\n"
   ]
  },
  {
   "cell_type": "markdown",
   "metadata": {},
   "source": [
    "&#9989; <font color=red>**QUESTION:**</font> The following matrix is singular because of certain column or row properties. Give the reason:\n",
    "\n",
    "$$ \n",
    "\\left[\n",
    "\\begin{matrix}\n",
    "    1 & 5 & 5  \\\\\n",
    "    0 & -2 & -2  \\\\\n",
    "    3 & 1 & 1\n",
    "\\end{matrix}\n",
    "\\right] \n",
    "$$"
   ]
  },
  {
   "cell_type": "markdown",
   "metadata": {
    "nbgrader": {
     "grade": true,
     "grade_id": "cell-6c606aaba17cdfe7",
     "locked": false,
     "points": 1,
     "schema_version": 3,
     "solution": true,
     "task": false
    }
   },
   "source": [
    "=== BEGIN MARK SCHEME ===\n",
    "\n",
    "The two right columns are the same\n",
    "\n",
    "=== END MARK SCHEME ==="
   ]
  },
  {
   "cell_type": "markdown",
   "metadata": {},
   "source": [
    "&#9989; <font color=red>**QUESTION:**</font> The following matrix is singular because of certain column or row properties. Give the reason:\n",
    "\n",
    "$$ \n",
    "\\left[\n",
    "\\begin{matrix}\n",
    "    1 & 0 & 4  \\\\\n",
    "    0 & 1 & 9  \\\\\n",
    "    0 & 0 & 0\n",
    "\\end{matrix}\n",
    "\\right] \n",
    "$$"
   ]
  },
  {
   "cell_type": "markdown",
   "metadata": {
    "nbgrader": {
     "grade": true,
     "grade_id": "cell-048f4ad53fd16a25",
     "locked": false,
     "points": 1,
     "schema_version": 3,
     "solution": true,
     "task": false
    }
   },
   "source": [
    "=== BEGIN MARK SCHEME ===\n",
    "\n",
    "The last row is just 0's\n",
    "\n",
    "=== END MARK SCHEME ==="
   ]
  },
  {
   "cell_type": "markdown",
   "metadata": {},
   "source": [
    "## Theorem 3.4  - Determinants and Matrix Operations\n",
    "\n",
    "Let $A$ and $B$ be $n\\times n$ matrices and $c$ be a nonzero scalar.\n",
    "\n",
    "1. Determinant of a scalar multiple: $|cA| = c^n|A|$\n",
    "2. Determinant of a product: $|AB| = |A||B|$\n",
    "3. Determinant of a transpose\" $|A^t| = |A|$\n",
    "4. Determinant of an inverse: $|A^{-1}| = \\frac{1}{|A|}$ (Assuming $A^{-1}$ exists)"
   ]
  },
  {
   "cell_type": "markdown",
   "metadata": {},
   "source": [
    "&#9989; <font color=red>**QUESTION:**</font>  If $A$ is a $3\\times 3$ matrix with $|A| = 3$, use the properties of determinants to compute the following determinant:\n",
    "\n",
    "$$|2A|$$"
   ]
  },
  {
   "cell_type": "code",
   "execution_count": null,
   "metadata": {
    "nbgrader": {
     "grade": false,
     "grade_id": "cell-90171d6cf3006ec9",
     "locked": false,
     "schema_version": 3,
     "solution": true,
     "task": false
    }
   },
   "outputs": [],
   "source": [
    "# Set variable a to your answer\n",
    "\n",
    "a = 0\n",
    "### BEGIN SOLUTION\n",
    "### END SOLUTION"
   ]
  },
  {
   "cell_type": "code",
   "execution_count": null,
   "metadata": {
    "nbgrader": {
     "grade": true,
     "grade_id": "cell-2cf1fe89b5159066",
     "locked": true,
     "points": 1,
     "schema_version": 3,
     "solution": false,
     "task": false
    }
   },
   "outputs": [],
   "source": [
    "assert hashids.encode(a) == \"79wRDv20eb\""
   ]
  },
  {
   "cell_type": "markdown",
   "metadata": {},
   "source": [
    "&#9989; <font color=red>**QUESTION:**</font>  If $A$ is a $3\\times 3$ matrix with $|A| = 3$, use the properties of determinants to compute the following determinant:\n",
    "$$|A^2|$$"
   ]
  },
  {
   "cell_type": "code",
   "execution_count": null,
   "metadata": {
    "nbgrader": {
     "grade": false,
     "grade_id": "cell-1365c6e37f3e58cc",
     "locked": false,
     "schema_version": 3,
     "solution": true,
     "task": false
    }
   },
   "outputs": [],
   "source": [
    "# set variable a to your answer\n",
    "\n",
    "a = 0\n",
    "### BEGIN SOLUTION\n",
    "### END SOLUTION"
   ]
  },
  {
   "cell_type": "code",
   "execution_count": null,
   "metadata": {
    "nbgrader": {
     "grade": true,
     "grade_id": "cell-cec8a286676a4d15",
     "locked": true,
     "points": 1,
     "schema_version": 3,
     "solution": false,
     "task": false
    }
   },
   "outputs": [],
   "source": [
    "assert hashids.encode(a) == \"roPkZPMY96\"\n"
   ]
  },
  {
   "cell_type": "markdown",
   "metadata": {},
   "source": [
    "&#9989; <font color=red>**QUESTION:**</font>  if $A$ and $B$ are $3\\times 3$ matrices and $|A| = -3, |B|=2$, compute the following determinant:\n",
    "\n",
    "$$|AB|$$\n"
   ]
  },
  {
   "cell_type": "code",
   "execution_count": null,
   "metadata": {
    "nbgrader": {
     "grade": false,
     "grade_id": "cell-8a7ead28dcff0bcc",
     "locked": false,
     "schema_version": 3,
     "solution": true,
     "task": false
    }
   },
   "outputs": [],
   "source": [
    "# Set variable a to your answer\n",
    "\n",
    "a = 0\n",
    "### BEGIN SOLUTION\n",
    "### END SOLUTION"
   ]
  },
  {
   "cell_type": "code",
   "execution_count": null,
   "metadata": {
    "nbgrader": {
     "grade": true,
     "grade_id": "cell-57315b694c673070",
     "locked": true,
     "points": 1,
     "schema_version": 3,
     "solution": false,
     "task": false
    }
   },
   "outputs": [],
   "source": [
    "assert hashids.encode(-a) == \"B7ZMOjRq0v\"\n"
   ]
  },
  {
   "cell_type": "markdown",
   "metadata": {},
   "source": [
    "&#9989; <font color=red>**QUESTION:**</font>  if $A$ and $B$ are $3\\times 3$ matrices and $|A| = -3, |B|=2$, compute the following determinant:\n",
    "\n",
    "$$|2AB^{-1}|$$"
   ]
  },
  {
   "cell_type": "code",
   "execution_count": null,
   "metadata": {
    "nbgrader": {
     "grade": false,
     "grade_id": "cell-816fbf71eab383e3",
     "locked": false,
     "schema_version": 3,
     "solution": true,
     "task": false
    }
   },
   "outputs": [],
   "source": [
    "# Set variable a to your answer\n",
    "\n",
    "a = 0\n",
    "### BEGIN SOLUTION\n",
    "### END SOLUTION"
   ]
  },
  {
   "cell_type": "code",
   "execution_count": null,
   "metadata": {
    "nbgrader": {
     "grade": true,
     "grade_id": "cell-14b50f1507e03ce6",
     "locked": true,
     "points": 1,
     "schema_version": 3,
     "solution": false,
     "task": false
    }
   },
   "outputs": [],
   "source": [
    "assert hashids.encode(-a) == \"G0j2VeMyEN\""
   ]
  },
  {
   "cell_type": "markdown",
   "metadata": {},
   "source": [
    "### Triangular matrices\n",
    "\n",
    "**Definition:** An **upper triangular matrix** has nonzero elements lie on or above the main diagonal and zero elements below the main diagonal. For example:\n",
    "\n",
    "\n",
    "$$ A = \n",
    "\\left[\n",
    "\\begin{matrix}\n",
    "    2 & -1 & 9 & 4  \\\\\n",
    "    0 & 3 & 0 & 6 \\\\\n",
    "    0 & 0 & -5 & 3 \\\\\n",
    "    0 & 0 & 0 & 1\n",
    "\\end{matrix}\n",
    "\\right] \n",
    "$$\n",
    "\n",
    "The determinant of an *upper triangle matrix* $A$ is the product of the diagonal elements of the matrix $A$.  \n",
    "\n",
    "Also, per Theorem 3.4.3 the determinant of a *lower triangle matrix* is also the product of the diagonal elements. "
   ]
  },
  {
   "cell_type": "markdown",
   "metadata": {},
   "source": [
    "&#9989; <font color=red>**QUESTION:**</font>   What is the determinant of matrix $A$?"
   ]
  },
  {
   "cell_type": "code",
   "execution_count": null,
   "metadata": {
    "nbgrader": {
     "grade": false,
     "grade_id": "cell-b677cab233fe1c2b",
     "locked": false,
     "schema_version": 3,
     "solution": true,
     "task": false
    }
   },
   "outputs": [],
   "source": [
    "# Set variable a to your answer\n",
    "a = 0\n",
    "### BEGIN SOLUTION\n",
    "### END SOLUTION"
   ]
  },
  {
   "cell_type": "code",
   "execution_count": null,
   "metadata": {
    "nbgrader": {
     "grade": true,
     "grade_id": "cell-d8043dbdedfa5aee",
     "locked": true,
     "points": 1,
     "schema_version": 3,
     "solution": false,
     "task": false
    }
   },
   "outputs": [],
   "source": [
    "assert hashids.encode(-a) == \"ZyXkqD2WdJ\""
   ]
  },
  {
   "cell_type": "markdown",
   "metadata": {},
   "source": [
    "### Using Properties of determinants:\n",
    "Here is a great video showing how you can use the properties of determinants:"
   ]
  },
  {
   "cell_type": "code",
   "execution_count": null,
   "metadata": {},
   "outputs": [],
   "source": [
    "from IPython.display import YouTubeVideo\n",
    "YouTubeVideo(\"aKX5_DucNq8\",width=640,height=360)"
   ]
  },
  {
   "cell_type": "markdown",
   "metadata": {},
   "source": [
    "&#9989; <font color=red>**QUESTION (A challenging one):**</font>   What is the determinant of the following matrix? \n",
    "\n",
    "\n",
    "$$ \n",
    "\\left[\n",
    "\\begin{matrix}\n",
    "    1 & a & a^2 & a^3 & a^4 \\\\\n",
    "    1 & b & b^2 & b^3 & b^4 \\\\\n",
    "    1 & c & c^2 & c^3 & c^4 \\\\\n",
    "    1 & d & d^2 & d^3 & d^4 \\\\\n",
    "    1 & e & e^2 & e^3 & e^4 \n",
    "\\end{matrix}\n",
    "\\right] \n",
    "$$\n"
   ]
  },
  {
   "cell_type": "markdown",
   "metadata": {},
   "source": [
    "Put your answer here"
   ]
  },
  {
   "cell_type": "markdown",
   "metadata": {},
   "source": [
    "----\n",
    "\n",
    "<a name=\"T3\"></a>\n",
    "# 3. Determinants and solving $Ax=b$\n",
    "\n",
    "Read Section 3.3 of the textbook and answer the following questions:"
   ]
  },
  {
   "cell_type": "markdown",
   "metadata": {},
   "source": [
    "&#9989; <font color=red>**QUESTION:**</font>   Determine wether the following matrices have inverse without calculating the inverse or using Python. Make sure you justify your answer:\n",
    "\n",
    "$$ (a)\n",
    "\\left[\n",
    "\\begin{matrix}\n",
    "    4 & -2 & 9  \\\\\n",
    "    0 & 0 & 3   \\\\\n",
    "    0 & 0 & 6 \n",
    "\\end{matrix}\n",
    "\\right] \n",
    "$$"
   ]
  },
  {
   "cell_type": "markdown",
   "metadata": {},
   "source": [
    "Put your answer here"
   ]
  },
  {
   "cell_type": "markdown",
   "metadata": {},
   "source": [
    "$$ b)\n",
    "\\left[\n",
    "\\begin{matrix}\n",
    "    1 & 2 & 3  \\\\\n",
    "    2 & 4 & 6  \\\\\n",
    "    7 & 3 & -1 \n",
    "\\end{matrix}\n",
    "\\right] \n",
    "$$"
   ]
  },
  {
   "cell_type": "markdown",
   "metadata": {},
   "source": [
    "Put your answer here"
   ]
  },
  {
   "cell_type": "markdown",
   "metadata": {},
   "source": [
    "$$ c)\n",
    "\\left[\n",
    "\\begin{matrix}\n",
    "    4 & 0 & 5  \\\\\n",
    "    1 & 3 & 7  \\\\\n",
    "    2 & 0 & 6 \n",
    "\\end{matrix}\n",
    "\\right] \n",
    "$$"
   ]
  },
  {
   "cell_type": "markdown",
   "metadata": {},
   "source": [
    "Put your answer here"
   ]
  },
  {
   "cell_type": "markdown",
   "metadata": {},
   "source": [
    "$$ d)\n",
    "\\left[\n",
    "\\begin{matrix}\n",
    "    1 & -2 & 3  \\\\\n",
    "    4 & -3 & 2  \\\\\n",
    "    1 & -1 & 1 \n",
    "\\end{matrix}\n",
    "\\right] \n",
    "$$"
   ]
  },
  {
   "cell_type": "markdown",
   "metadata": {},
   "source": [
    "Put your answer here"
   ]
  },
  {
   "cell_type": "markdown",
   "metadata": {},
   "source": [
    "----\n",
    "\n",
    "<a name=\"T4\"></a>\n",
    "# 4. One interpretation of determinants\n",
    "\n",
    "The following is an application of determinants. Watch this!"
   ]
  },
  {
   "cell_type": "code",
   "execution_count": null,
   "metadata": {},
   "outputs": [],
   "source": [
    "from IPython.display import YouTubeVideo\n",
    "YouTubeVideo(\"Ip3X9LOh2dk\",width=640,height=360)"
   ]
  },
  {
   "cell_type": "markdown",
   "metadata": {},
   "source": [
    "For fun, we will recreate some of the video's visualizations in Python. \n",
    "It was a little tricky to get the aspect ratios correct but here is some code I managed to get it work. "
   ]
  },
  {
   "cell_type": "code",
   "execution_count": null,
   "metadata": {},
   "outputs": [],
   "source": [
    "%matplotlib inline\n",
    "import matplotlib.pyplot as plt\n",
    "from mpl_toolkits.mplot3d import Axes3D\n",
    "from mpl_toolkits.mplot3d.art3d import Poly3DCollection, Line3DCollection\n",
    "import numpy as np"
   ]
  },
  {
   "cell_type": "code",
   "execution_count": null,
   "metadata": {},
   "outputs": [],
   "source": [
    "# Lets define somme points that form a Unit Cube\n",
    "points = np.array([[0, 0, 0],\n",
    "                  [1, 0, 0 ],\n",
    "                  [1, 1, 0],\n",
    "                  [0, 1, 0],\n",
    "                  [0, 0, 1],\n",
    "                  [1, 0, 1 ],\n",
    "                  [1, 1, 1],\n",
    "                  [0, 1, 1]])\n",
    "\n",
    "points = np.matrix(points)"
   ]
  },
  {
   "cell_type": "code",
   "execution_count": null,
   "metadata": {},
   "outputs": [],
   "source": [
    "#Here is some code to build cube from https://stackoverflow.com/questions/44881885/python-draw-3d-cube\n",
    "\n",
    "def plot3dcube(Z):\n",
    "    \n",
    "    if type(Z) == np.matrix:\n",
    "        Z = np.asarray(Z)\n",
    "\n",
    "    fig = plt.figure()\n",
    "    ax = fig.add_subplot(111, projection='3d')\n",
    "\n",
    "    r = [-1,1]\n",
    "\n",
    "    X, Y = np.meshgrid(r, r)\n",
    "    # plot vertices\n",
    "    ax.scatter3D(Z[:, 0], Z[:, 1], Z[:, 2])\n",
    "\n",
    "    # list of sides' polygons of figure\n",
    "    verts = [[Z[0],Z[1],Z[2],Z[3]],\n",
    "     [Z[4],Z[5],Z[6],Z[7]], \n",
    "     [Z[0],Z[1],Z[5],Z[4]], \n",
    "     [Z[2],Z[3],Z[7],Z[6]], \n",
    "     [Z[1],Z[2],Z[6],Z[5]],\n",
    "     [Z[4],Z[7],Z[3],Z[0]], \n",
    "     [Z[2],Z[3],Z[7],Z[6]]]\n",
    "\n",
    "    #alpha transparency was't working found fix here: \n",
    "    # https://stackoverflow.com/questions/23403293/3d-surface-not-transparent-inspite-of-setting-alpha\n",
    "    # plot sides\n",
    "    ax.add_collection3d(Poly3DCollection(verts, \n",
    "     facecolors=(0,0,1,0.25), linewidths=1, edgecolors='r'))\n",
    "    \n",
    "    ax.set_xlabel('X')\n",
    "    ax.set_ylabel('Y')\n",
    "    ax.set_zlabel('Z')\n",
    "    \n",
    "    ## Weird trick to get the axpect ratio to work.\n",
    "    ## From https://stackoverflow.com/questions/13685386/matplotlib-equal-unit-length-with-equal-aspect-ratio-z-axis-is-not-equal-to\n",
    "    mx = np.amax(Z, axis=0)\n",
    "    mn = np.amin(Z, axis=0)\n",
    "    max_range = mx-mn\n",
    "\n",
    "    # Create cubic bounding box to simulate equal aspect ratio\n",
    "    Xb = 0.5*max_range.max()*np.mgrid[-1:2:2,-1:2:2,-1:2:2][0].flatten() + 0.5*(max_range[0])\n",
    "    Yb = 0.5*max_range.max()*np.mgrid[-1:2:2,-1:2:2,-1:2:2][1].flatten() + 0.5*(max_range[1])\n",
    "    Zb = 0.5*max_range.max()*np.mgrid[-1:2:2,-1:2:2,-1:2:2][2].flatten() + 0.5*(max_range[2])\n",
    "    # Comment or uncomment following both lines to test the fake bounding box:\n",
    "    for xb, yb, zb in zip(Xb, Yb, Zb):\n",
    "       ax.plot([xb], [yb], [zb], 'w')\n",
    "\n",
    "    plt.show()"
   ]
  },
  {
   "cell_type": "code",
   "execution_count": null,
   "metadata": {},
   "outputs": [],
   "source": [
    "plot3dcube(points)"
   ]
  },
  {
   "cell_type": "markdown",
   "metadata": {},
   "source": [
    "<font color='red'>**QUESTION:**</font> Generate the $3\\times 3$ matrix used in the video (around 6'50'') and apply that matrix to the points in the unit cube.  Use ```plot3dcube``` to show the resulting transformed points. "
   ]
  },
  {
   "cell_type": "code",
   "execution_count": null,
   "metadata": {
    "nbgrader": {
     "grade": false,
     "grade_id": "cell-6bb95ac28e554124",
     "locked": false,
     "schema_version": 3,
     "solution": true,
     "task": false
    }
   },
   "outputs": [],
   "source": [
    "#Put the answer to the above question here. \n",
    "T = np.matrix()\n",
    "\n",
    "### BEGIN SOLUTION\n",
    "### END SOLUTION"
   ]
  },
  {
   "cell_type": "code",
   "execution_count": null,
   "metadata": {
    "nbgrader": {
     "grade": true,
     "grade_id": "cell-81930f16f35b2a78",
     "locked": true,
     "points": 1,
     "schema_version": 3,
     "solution": false,
     "task": false
    }
   },
   "outputs": [],
   "source": [
    "### BEGIN HIDDEN TESTS\n",
    "assert T == np.matrix([[1 , 0 ,  1],\n",
    "               [0.5 ,1 ,1.5],\n",
    "               [1 , 0 ,  1]])\n",
    "### END HIDDEN TESTS"
   ]
  },
  {
   "cell_type": "markdown",
   "metadata": {},
   "source": [
    "&#9989; <font color='red'>**QUESTION:**</font> In the video, the determinant was shown to be what value in 2D? "
   ]
  },
  {
   "cell_type": "markdown",
   "metadata": {},
   "source": [
    "Put your answer here"
   ]
  },
  {
   "cell_type": "markdown",
   "metadata": {},
   "source": [
    "----\n",
    "\n",
    "<a name=\"T5\"></a>\n",
    "# 5. Assignment wrap-up\n",
    "\n",
    "Please fill out the form that appears when you run the code below.  **You must completely fill this out in order to receive credit for the assignment!**\n",
    "\n",
    "[Direct Link to Google Form](https://cmse.msu.edu/cmse314-pc-survey)\n",
    "\n",
    "\n",
    "If you have trouble with the embedded form, please make sure you log on with your MSU google account at [googleapps.msu.edu](https://googleapps.msu.edu) and then click on the direct link above."
   ]
  },
  {
   "cell_type": "markdown",
   "metadata": {},
   "source": [
    "&#9989; <font color=red>**Assignment-Specific QUESTION:**</font> There is no Assignment specific question for this notebook. You can just say \"none\". However, be prepaird to share your answers in class."
   ]
  },
  {
   "cell_type": "markdown",
   "metadata": {},
   "source": [
    "Put your answer to the above question here"
   ]
  },
  {
   "cell_type": "markdown",
   "metadata": {},
   "source": [
    "&#9989; <font color=red>**QUESTION:**</font>  Summarize what you did in this assignment."
   ]
  },
  {
   "cell_type": "markdown",
   "metadata": {},
   "source": [
    "Put your answer to the above question here"
   ]
  },
  {
   "cell_type": "markdown",
   "metadata": {},
   "source": [
    "&#9989; <font color=red>**QUESTION:**</font>  What questions do you have, if any, about any of the topics discussed in this assignment after working through the jupyter notebook?"
   ]
  },
  {
   "cell_type": "markdown",
   "metadata": {},
   "source": [
    "Put your answer to the above question here"
   ]
  },
  {
   "cell_type": "markdown",
   "metadata": {},
   "source": [
    "&#9989; <font color=red>**QUESTION:**</font>  How well do you feel this assignment helped you to achieve a better understanding of the above mentioned topic(s)?"
   ]
  },
  {
   "cell_type": "markdown",
   "metadata": {},
   "source": [
    "Put your answer to the above question here"
   ]
  },
  {
   "cell_type": "markdown",
   "metadata": {},
   "source": [
    "&#9989; <font color=red>**QUESTION:**</font> What was the **most** challenging part of this assignment for you? "
   ]
  },
  {
   "cell_type": "markdown",
   "metadata": {},
   "source": [
    "Put your answer to the above question here"
   ]
  },
  {
   "cell_type": "markdown",
   "metadata": {},
   "source": [
    "&#9989; <font color=red>**QUESTION:**</font> What was the **least** challenging part of this assignment for you? "
   ]
  },
  {
   "cell_type": "markdown",
   "metadata": {},
   "source": [
    "Put your answer to the above question here"
   ]
  },
  {
   "cell_type": "markdown",
   "metadata": {},
   "source": [
    "&#9989; <font color=red>**QUESTION:**</font>  What kind of additional questions or support, if any, do you feel you need to have a better understanding of the content in this assignment?"
   ]
  },
  {
   "cell_type": "markdown",
   "metadata": {},
   "source": [
    "Put your answer to the above question here"
   ]
  },
  {
   "cell_type": "markdown",
   "metadata": {},
   "source": [
    "&#9989; <font color=red>**QUESTION:**</font>  Do you have any further questions or comments about this material, or anything else that's going on in class?"
   ]
  },
  {
   "cell_type": "markdown",
   "metadata": {},
   "source": [
    "Put your answer to the above question here"
   ]
  },
  {
   "cell_type": "markdown",
   "metadata": {},
   "source": [
    "&#9989; <font color=red>**QUESTION:**</font> Approximately how long did this pre-class assignment take?"
   ]
  },
  {
   "cell_type": "markdown",
   "metadata": {},
   "source": [
    "Put your answer to the above question here"
   ]
  },
  {
   "cell_type": "code",
   "execution_count": null,
   "metadata": {},
   "outputs": [],
   "source": [
    "from IPython.display import HTML\n",
    "HTML(\n",
    "\"\"\"\n",
    "<iframe \n",
    "\tsrc=\"https://cmse.msu.edu/cmse314-pc-survey\" \n",
    "\twidth=\"100%\" \n",
    "\theight=\"1000px\" \n",
    "\tframeborder=\"0\" \n",
    "\tmarginheight=\"0\" \n",
    "\tmarginwidth=\"0\">\n",
    "\tLoading...\n",
    "</iframe>\n",
    "\"\"\"\n",
    ")"
   ]
  },
  {
   "cell_type": "markdown",
   "metadata": {},
   "source": [
    "---------\n",
    "### Congratulations, we're done!\n",
    "\n",
    "To get credit for this assignment you must fill out and submit the above Google From on or before the assignment due date."
   ]
  },
  {
   "cell_type": "markdown",
   "metadata": {},
   "source": [
    "### Course Resources:\n",
    "\n",
    "- [Syllabus](###SYLLABUS###)\n",
    "- [Preliminary Schedule](###SCHEDULE###)\n",
    "- [Course D2L Page](###D2L###)"
   ]
  },
  {
   "cell_type": "markdown",
   "metadata": {},
   "source": [
    "&#169; Copyright 2019,  Michigan State University Board of Trustees"
   ]
  }
 ],
 "metadata": {
  "anaconda-cloud": {},
  "celltoolbar": "Create Assignment",
  "kernelspec": {
   "display_name": "Python 3",
   "language": "python",
   "name": "python3"
  },
  "language_info": {
   "codemirror_mode": {
    "name": "ipython",
    "version": 3
   },
   "file_extension": ".py",
   "mimetype": "text/x-python",
   "name": "python",
   "nbconvert_exporter": "python",
   "pygments_lexer": "ipython3",
   "version": "3.6.3"
  }
 },
 "nbformat": 4,
 "nbformat_minor": 2
}
