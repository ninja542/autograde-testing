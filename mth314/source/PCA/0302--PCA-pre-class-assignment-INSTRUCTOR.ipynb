{
 "cells": [
  {
   "cell_type": "markdown",
   "metadata": {},
   "source": [
    "In order to successfully complete this assignment you must do the required reading, watch the provided videos and complete all instructions.  The embedded Google form must be entirely filled out and submitted on or before **11:59pm on Monday October 28**.  Students must come to class the next day prepared to discuss the material covered in this assignment. answer"
   ]
  },
  {
   "cell_type": "markdown",
   "metadata": {},
   "source": [
    "# Pre-Class Assignment: Principal Component Analysis"
   ]
  },
  {
   "cell_type": "markdown",
   "metadata": {},
   "source": [
    "### Goals for today's pre-class assignment \n",
    "\n",
    "</p>\n",
    "\n",
    "1. [Intuition about principal component analysis](#Intuition_about_principal_component_analysis)\n",
    "2. [The Math Behind PCA](#The_Math_Behind_PCA)\n",
    "2. [Example Application: The Iris data set](#Example_Application:_The_Iris_data_set)\n",
    "4. [Assignment wrap-up](#Assignment_wrap-up)"
   ]
  },
  {
   "cell_type": "markdown",
   "metadata": {},
   "source": [
    "---\n",
    "<a name=\"Intuition_about_principal_component_analysis\"></a>\n",
    "# 1. Intuition about principal component analysis\n",
    "\n",
    "The following videos (Developed at Georgia Tech) are to help you gain an understanding and intuition about principal component analysis (PCA). PCA is one of main techniques used in data science, exploratory data analysis and modeling.\n",
    "\n",
    "You can watch the entire course here:\n",
    "\n",
    "https://youtu.be/Ki2iHgKxRBo?list=PLAwxTw4SYaPl0N6-e1GvyLp5-MUMUjOKo\n",
    "\n",
    "It's really good but we don't have time to cover it all. \n"
   ]
  },
  {
   "cell_type": "code",
   "execution_count": null,
   "metadata": {},
   "outputs": [],
   "source": [
    "from IPython.display import YouTubeVideo\n",
    "YouTubeVideo(\"kw9R0nD69OU\",width=640,height=360)"
   ]
  },
  {
   "cell_type": "markdown",
   "metadata": {},
   "source": [
    "&#9989; <font color=red>**QUESTION:**</font> PCA is trying to find the directions with maximal _ _ _ _ _? "
   ]
  },
  {
   "cell_type": "markdown",
   "metadata": {},
   "source": [
    "difference"
   ]
  },
  {
   "cell_type": "code",
   "execution_count": null,
   "metadata": {},
   "outputs": [],
   "source": [
    "from IPython.display import YouTubeVideo\n",
    "YouTubeVideo(\"_nZUhV-qhZA\",width=640,height=360)"
   ]
  },
  {
   "cell_type": "markdown",
   "metadata": {},
   "source": [
    "&#9989; <font color=red>**QUESTION:**</font> This video introduces a concept of \"features\" in a dataset. What are the names of the two original features represented in the graph shown in this video. "
   ]
  },
  {
   "cell_type": "markdown",
   "metadata": {},
   "source": [
    "Put your answer to the above question here."
   ]
  },
  {
   "cell_type": "code",
   "execution_count": null,
   "metadata": {},
   "outputs": [],
   "source": [
    "from IPython.display import YouTubeVideo\n",
    "YouTubeVideo(\"kuzJJgPBrqc\",width=640,height=360)"
   ]
  },
  {
   "cell_type": "markdown",
   "metadata": {},
   "source": [
    "&#9989; <font color=red>**QUESTION:**</font> If the eigenvalue of a dimension is zero? "
   ]
  },
  {
   "cell_type": "markdown",
   "metadata": {},
   "source": [
    "Put the answer to the above question here. "
   ]
  },
  {
   "cell_type": "markdown",
   "metadata": {},
   "source": [
    "----\n",
    "<a name=\"The_Math_Behind_PCA\"></a>\n",
    "# 2. The Math Behind PCA\n",
    "The principal components represents a basis that \"best\" describes the data. The basis vectors describe the largest variation of the data. \n",
    "\n",
    "For example: lets pretend this data came from some sort of 2D experiment where the x axis is one measurement and the y axis is a second.  "
   ]
  },
  {
   "cell_type": "code",
   "execution_count": 16,
   "metadata": {},
   "outputs": [
    {
     "data": {
      "image/png": "[encoded data removed]",
      "text/plain": [
       "<Figure size 432x288 with 1 Axes>"
      ]
     },
     "metadata": {
      "needs_background": "dark"
     },
     "output_type": "display_data"
    },
    {
     "name": "stdout",
     "output_type": "stream",
     "text": [
      "[[12.25646593 10.54260623  8.45598809 ... 10.36886831 10.24455159\n",
      "   7.65152375]\n",
      " [21.84428444 18.31364231 20.6014225  ... 22.13602761 18.02113106\n",
      "  15.3022267 ]\n",
      " [ 1.          1.          1.         ...  1.          1.\n",
      "   1.        ]]\n"
     ]
    }
   ],
   "source": [
    "%matplotlib inline\n",
    "import matplotlib.pylab as plt\n",
    "import numpy as np\n",
    "import sympy as sp\n",
    "sp.init_printing(use_unicode=True)\n",
    "\n",
    "#Make a random point cloud.  This cloud uses a Gaussian distribution \n",
    "# with a covariance matrix 5 times bigger in the y direction.  \n",
    "x, y = np.random.multivariate_normal([0, 0], [[1, 0], [0, 5]], 1000).T;\n",
    "P = np.matrix([x, y, np.ones(len(x))]);\n",
    "\n",
    "#Apply a 45 degree rotation to the random data and shift it in the $x,y$ plane using a \n",
    "# simple 2D transformation matrix:\n",
    "theta = -np.pi/4\n",
    "dx = 10\n",
    "dy = 20\n",
    "T = np.matrix([[np.sin(theta), -np.cos(theta), dx], [np.cos(theta), np.sin(theta), dy], [0,0,1]])\n",
    "P = T*P\n",
    "\n",
    "#remove the last row\n",
    "P = P[0:3,:]\n",
    "\n",
    "#Plot the data\n",
    "plt.plot(P[0].tolist(), P[1].tolist(), \"or\");\n",
    "plt.axis('equal');\n",
    "plt.show()\n",
    "print(P)\n"
   ]
  },
  {
   "cell_type": "markdown",
   "metadata": {},
   "source": [
    "### STEP 1: Center the Data\n",
    "\n",
    "&#9989; <font color=red>**DO THIS:**</font> Center the data. Lets call this centered matrix of points $A$. The first step is to center the data about the origin.  Calculate the centroid of this 2D data and shift all of the points such that the centroid is moved to zero. Plot your shifted data. \n",
    "\n",
    "**HINT for Fall 2019 students**: this shift requires finding the average of the data and then subtracting that avaerage similar to the first homework."
   ]
  },
  {
   "cell_type": "code",
   "execution_count": 12,
   "metadata": {},
   "outputs": [
    {
     "data": {
      "text/plain": [
       "matrix([[ 1.83349887, -1.40705361,  0.59969131, ..., -1.23290412,\n",
       "          2.19197906,  0.63284958],\n",
       "        [ 0.02027113, -3.79550323, -2.30844509, ..., -1.20741817,\n",
       "          3.49444394, -0.77077799],\n",
       "        [ 0.        ,  0.        ,  0.        , ...,  0.        ,\n",
       "          0.        ,  0.        ]])"
      ]
     },
     "execution_count": 12,
     "metadata": {},
     "output_type": "execute_result"
    }
   ],
   "source": [
    "#Put your code here\n",
    "A = P - P.mean(axis=1)\n",
    "# A = A[:2]\n",
    "A"
   ]
  },
  {
   "cell_type": "markdown",
   "metadata": {},
   "source": [
    "### Step 2: Calculate the \"Covariance Matrix\"\n",
    "\n",
    "&#9989; <font color=red>**DO THIS:**</font> Calculate \"covariance matrix\" by multiplying the data $C = AA^T$. Note this should be a $ 2 \\times 2$ matrix."
   ]
  },
  {
   "cell_type": "code",
   "execution_count": 6,
   "metadata": {},
   "outputs": [
    {
     "data": {
      "text/plain": [
       "matrix([[2928.41380075, 1938.62302597,    0.        ],\n",
       "        [1938.62302597, 2991.16315651,    0.        ],\n",
       "        [   0.        ,    0.        ,    0.        ]])"
      ]
     },
     "execution_count": 6,
     "metadata": {},
     "output_type": "execute_result"
    }
   ],
   "source": [
    "#put your code here\n",
    "C = A * A.T\n",
    "C"
   ]
  },
  {
   "cell_type": "markdown",
   "metadata": {},
   "source": [
    "### Step 3: Calculate the Eigenvalus and Eigenvectors of $C$\n",
    "\n",
    "&#9989; <font color=red>**DO THIS:**</font> Calculate the eigenvalues and eigenvectors of $C$"
   ]
  },
  {
   "cell_type": "code",
   "execution_count": 7,
   "metadata": {},
   "outputs": [
    {
     "data": {
      "text/plain": [
       "(array([1020.91158537, 4898.6653719 ,    0.        ]),\n",
       " matrix([[-0.71280498, -0.70136229,  0.        ],\n",
       "         [ 0.70136229, -0.71280498,  0.        ],\n",
       "         [ 0.        ,  0.        ,  1.        ]]))"
      ]
     },
     "execution_count": 7,
     "metadata": {},
     "output_type": "execute_result"
    }
   ],
   "source": [
    "#Put your code here\n",
    "vals,vec = np.linalg.eig(C)\n",
    "vals,vec"
   ]
  },
  {
   "cell_type": "markdown",
   "metadata": {},
   "source": [
    "The eigenvalues represent the relative contribution of each eigenvector. Note, if you did this correctly the second eigenvalue should be five times the first. "
   ]
  },
  {
   "cell_type": "markdown",
   "metadata": {},
   "source": [
    "&#9989; <font color=red>**DO THIS:**</font> Plot the eigenvectors on the centered data. "
   ]
  },
  {
   "cell_type": "code",
   "execution_count": 17,
   "metadata": {},
   "outputs": [
    {
     "data": {
      "image/png": "[encoded data removed]",
      "text/plain": [
       "<Figure size 432x288 with 1 Axes>"
      ]
     },
     "metadata": {
      "needs_background": "dark"
     },
     "output_type": "display_data"
    }
   ],
   "source": [
    "plt.plot(A[0].tolist(), A[1].tolist(), \"or\")\n",
    "plt.plot(vec[0,:].tolist(), vec[1,:].tolist(), \"og\")\n",
    "plt.show()"
   ]
  },
  {
   "cell_type": "markdown",
   "metadata": {},
   "source": [
    "&#9989; <font color=red>**Extra Work:**</font> Shift the eigenvectors to be centered at the original data centroid and plot the results:"
   ]
  },
  {
   "cell_type": "code",
   "execution_count": null,
   "metadata": {},
   "outputs": [],
   "source": [
    "# Put your answer to the above here."
   ]
  },
  {
   "cell_type": "code",
   "execution_count": 19,
   "metadata": {},
   "outputs": [
    {
     "data": {
      "image/png": "[encoded data removed]",
      "text/plain": [
       "<Figure size 432x288 with 1 Axes>"
      ]
     },
     "metadata": {
      "needs_background": "dark"
     },
     "output_type": "display_data"
    }
   ],
   "source": [
    "plt.plot(P[0].tolist(), P[1].tolist(), 'x', color='r');\n",
    "plt.axis('equal');\n",
    "\n",
    "c = P.mean(axis=1)\n",
    "\n",
    "mx=c[0,0]\n",
    "my=c[1,0]\n",
    "plt.plot([ mx, mx+vec[0,0]*10], [my,my+vec[0,1]*10], color='g');\n",
    "plt.plot([ mx, mx+vec[1,0]*10], [my,my+vec[1,1]*10], color='b');"
   ]
  },
  {
   "cell_type": "markdown",
   "metadata": {},
   "source": [
    "&#9989; <font color=red>**QUESTION 4:**</font> How can we use Principal Component Analysis?"
   ]
  },
  {
   "cell_type": "markdown",
   "metadata": {},
   "source": [
    "we can use PCA to find the best line of fit"
   ]
  },
  {
   "cell_type": "markdown",
   "metadata": {},
   "source": [
    "---\n",
    "<a name=\"Example_Application:_The_Iris_data_set\"></a>\n",
    "# 3. Example Application: The Iris data set\n",
    "\n",
    "The iris dataset contains measurements for 150 iris flowers from three different species. "
   ]
  },
  {
   "cell_type": "code",
   "execution_count": 22,
   "metadata": {},
   "outputs": [],
   "source": [
    "%matplotlib inline\n",
    "# First things first. Let's import some of the modules we'll use\n",
    "\n",
    "import numpy as np\n",
    "\n",
    "import scipy.linalg\n",
    "\n",
    "import sklearn\n",
    "import sklearn.decomposition as dec\n",
    "import sklearn.datasets as datasets\n",
    "\n",
    "import matplotlib.pyplot as plt\n"
   ]
  },
  {
   "cell_type": "code",
   "execution_count": 23,
   "metadata": {
    "scrolled": true
   },
   "outputs": [
    {
     "name": "stdout",
     "output_type": "stream",
     "text": [
      "(150, 4)\n"
     ]
    }
   ],
   "source": [
    "iris = datasets.load_iris()\n",
    "data = iris.data\n",
    "target = iris.target\n",
    "print(data.shape)"
   ]
  },
  {
   "cell_type": "markdown",
   "metadata": {},
   "source": [
    "The three classes in the Iris dataset are represented by numbers in the 'target' vector:\n",
    "\n",
    "    1. Iris-setosa (n=50)\n",
    "    2. Iris-versicolor (n=50)\n",
    "    3. Iris-virginica (n=50)\n",
    "\n",
    "There are four measurements (features) for each flower in the  'data' matrix:    \n",
    "    1. sepal length in cm\n",
    "    2. sepal width in cm\n",
    "    3. petal length in cm\n",
    "    4. petal width in cm\n",
    "    \n",
    "Example:"
   ]
  },
  {
   "cell_type": "markdown",
   "metadata": {},
   "source": [
    "![Image of flower](http://nbviewer.jupyter.org/github/rasbt/pattern_classification/blob/master/Images/iris_petal_sepal.png)"
   ]
  },
  {
   "cell_type": "markdown",
   "metadata": {},
   "source": [
    "**Our Goal:** Find a set of features that are better than the RAW features.  We will use PCA to find axes that make it easer to separate the data into classes.  "
   ]
  },
  {
   "cell_type": "markdown",
   "metadata": {},
   "source": [
    "### Step A: Try to visualize the features by plotting them."
   ]
  },
  {
   "cell_type": "markdown",
   "metadata": {},
   "source": [
    "&#9989; <font color=red>**QUESTION:**</font> Modify the following code to draw a scatterplot of the data for gust the first and second axes of the data matrix (index 0 and 1).  Hint: use a similar vector notation as step c."
   ]
  },
  {
   "cell_type": "code",
   "execution_count": 28,
   "metadata": {},
   "outputs": [
    {
     "data": {
      "image/png": "[encoded data removed]",
      "text/plain": [
       "<Figure size 432x216 with 1 Axes>"
      ]
     },
     "metadata": {
      "needs_background": "dark"
     },
     "output_type": "display_data"
    }
   ],
   "source": [
    "plt.figure(figsize=(6,3));\n",
    "\n",
    "# STOP!!!! : Please complete the line of code below to do a scatter plot with respect to the first two variables of the data\n",
    "\n",
    "# plt.scatter(data[0].tolist(),data[1].tolist(), c=target, s=30, cmap=plt.cm.rainbow);\n",
    "plt.scatter(data[:,0].tolist(),data[:,1].tolist(), c=target, s=30, cmap=plt.cm.rainbow);"
   ]
  },
  {
   "cell_type": "markdown",
   "metadata": {},
   "source": [
    "If done correctly the above should show different color dots for each of the different iris types.  As you can see, the classes do not separate clearly. Perhaps there are two directions that separate the data?"
   ]
  },
  {
   "cell_type": "markdown",
   "metadata": {},
   "source": [
    "### Step B: Transform the data in terms of its principal components\n",
    "Now we will use a PCA algorithm. Fortunately there is a simple PCA function available in the sklearn module. "
   ]
  },
  {
   "cell_type": "code",
   "execution_count": 25,
   "metadata": {},
   "outputs": [],
   "source": [
    "pca = dec.PCA()\n",
    "pca_data = pca.fit_transform(data)"
   ]
  },
  {
   "cell_type": "markdown",
   "metadata": {},
   "source": [
    "Out of curiosity. print the eigenvalues.  Remember from the video that low eigenvalues indicate less information. Big eigenvalues indicate more information."
   ]
  },
  {
   "cell_type": "code",
   "execution_count": 26,
   "metadata": {},
   "outputs": [
    {
     "name": "stdout",
     "output_type": "stream",
     "text": [
      "[4.22824171 0.24267075 0.0782095  0.02383509]\n"
     ]
    }
   ],
   "source": [
    "print(pca.explained_variance_)"
   ]
  },
  {
   "cell_type": "markdown",
   "metadata": {},
   "source": [
    "### Step C: Now plot the transformed data in terms of its first two principal components"
   ]
  },
  {
   "cell_type": "code",
   "execution_count": 27,
   "metadata": {
    "scrolled": true
   },
   "outputs": [
    {
     "data": {
      "image/png": "[encoded data removed]",
      "text/plain": [
       "<Figure size 432x216 with 1 Axes>"
      ]
     },
     "metadata": {
      "needs_background": "dark"
     },
     "output_type": "display_data"
    }
   ],
   "source": [
    "plt.figure(figsize=(6,3));\n",
    "plt.scatter(pca_data[:,0], pca_data[:,1], c=target, s=30, cmap=plt.cm.rainbow);"
   ]
  },
  {
   "cell_type": "markdown",
   "metadata": {},
   "source": [
    "&#9989; <font color=red>**QUESTION:**</font> Describe in words the differences between the graphs from Step A and Step C.  They are representing the same data.  Why would we prefer to use the features in step C?"
   ]
  },
  {
   "cell_type": "markdown",
   "metadata": {},
   "source": [
    "The features in step C are more grouped together and separate. "
   ]
  },
  {
   "cell_type": "markdown",
   "metadata": {},
   "source": [
    "&#9989; <font color=red>**DO THIS:**</font> Review the steps for Machine Learning in the previous pre-class assignment. See if you can apply all of the steps to only the first two vectors of data.  If this is too hard, do not worry, just see what you can figure out and come to class to talk about it?"
   ]
  },
  {
   "cell_type": "code",
   "execution_count": null,
   "metadata": {},
   "outputs": [],
   "source": [
    "#Put your code here."
   ]
  },
  {
   "cell_type": "markdown",
   "metadata": {},
   "source": [
    "----\n",
    "\n",
    "<a name=\"Assignment_wrap-up\"></a>\n",
    "# 3. Assignment wrap-up\n",
    "\n",
    "Please fill out the form that appears when you run the code below.  **You must completely fill this out in order to receive credit for the assignment!**\n",
    "\n",
    "[Direct Link to Google Form](https://cmse.msu.edu/cmse314-pc-survey)\n",
    "\n",
    "\n",
    "If you have trouble with the embedded form, please make sure you log on with your MSU google account at [googleapps.msu.edu](https://googleapps.msu.edu) and then click on the direct link above."
   ]
  },
  {
   "cell_type": "markdown",
   "metadata": {},
   "source": [
    "&#9989; <font color=red>**Assignment-Specific QUESTION:**</font> There is no Assignment specific question for this notebook. You can just say \"none\"."
   ]
  },
  {
   "cell_type": "markdown",
   "metadata": {},
   "source": [
    "Put your answer to the above question here"
   ]
  },
  {
   "cell_type": "markdown",
   "metadata": {},
   "source": [
    "&#9989; <font color=red>**QUESTION:**</font>  Summarize what you did in this assignment."
   ]
  },
  {
   "cell_type": "markdown",
   "metadata": {},
   "source": [
    "Put your answer to the above question here"
   ]
  },
  {
   "cell_type": "markdown",
   "metadata": {},
   "source": [
    "&#9989; <font color=red>**QUESTION:**</font>  What questions do you have, if any, about any of the topics discussed in this assignment after working through the jupyter notebook?"
   ]
  },
  {
   "cell_type": "markdown",
   "metadata": {},
   "source": [
    "Put your answer to the above question here"
   ]
  },
  {
   "cell_type": "markdown",
   "metadata": {},
   "source": [
    "&#9989; <font color=red>**QUESTION:**</font>  How well do you feel this assignment helped you to achieve a better understanding of the above mentioned topic(s)?"
   ]
  },
  {
   "cell_type": "markdown",
   "metadata": {},
   "source": [
    "Put your answer to the above question here"
   ]
  },
  {
   "cell_type": "markdown",
   "metadata": {},
   "source": [
    "&#9989; <font color=red>**QUESTION:**</font> What was the **most** challenging part of this assignment for you? "
   ]
  },
  {
   "cell_type": "markdown",
   "metadata": {},
   "source": [
    "Put your answer to the above question here"
   ]
  },
  {
   "cell_type": "markdown",
   "metadata": {},
   "source": [
    "&#9989; <font color=red>**QUESTION:**</font> What was the **least** challenging part of this assignment for you? "
   ]
  },
  {
   "cell_type": "markdown",
   "metadata": {},
   "source": [
    "Put your answer to the above question here"
   ]
  },
  {
   "cell_type": "markdown",
   "metadata": {},
   "source": [
    "&#9989; <font color=red>**QUESTION:**</font>  What kind of additional questions or support, if any, do you feel you need to have a better understanding of the content in this assignment?"
   ]
  },
  {
   "cell_type": "markdown",
   "metadata": {},
   "source": [
    "Put your answer to the above question here"
   ]
  },
  {
   "cell_type": "markdown",
   "metadata": {},
   "source": [
    "&#9989; <font color=red>**QUESTION:**</font>  Do you have any further questions or comments about this material, or anything else that's going on in class?"
   ]
  },
  {
   "cell_type": "markdown",
   "metadata": {},
   "source": [
    "Put your answer to the above question here"
   ]
  },
  {
   "cell_type": "markdown",
   "metadata": {},
   "source": [
    "&#9989; <font color=red>**QUESTION:**</font> Approximately how long did this pre-class assignment take?"
   ]
  },
  {
   "cell_type": "markdown",
   "metadata": {},
   "source": [
    "Put your answer to the above question here"
   ]
  },
  {
   "cell_type": "code",
   "execution_count": null,
   "metadata": {},
   "outputs": [],
   "source": [
    "from IPython.display import HTML\n",
    "HTML(\n",
    "\"\"\"\n",
    "<iframe \n",
    "\tsrc=\"https://cmse.msu.edu/cmse314-pc-survey\" \n",
    "\twidth=\"100%\" \n",
    "\theight=\"1000px\" \n",
    "\tframeborder=\"0\" \n",
    "\tmarginheight=\"0\" \n",
    "\tmarginwidth=\"0\">\n",
    "\tLoading...\n",
    "</iframe>\n",
    "\"\"\"\n",
    ")"
   ]
  },
  {
   "cell_type": "markdown",
   "metadata": {},
   "source": [
    "---------\n",
    "### Congratulations, we're done!\n",
    "\n",
    "To get credit for this assignment you must fill out and submit the above Google From on or before the assignment due date."
   ]
  },
  {
   "cell_type": "markdown",
   "metadata": {},
   "source": [
    "### Course Resources:\n",
    "\n",
    "- [Syllabus](https://docs.google.com/document/d/e/2PACX-1vRAFflQFXulzSMwWcyr_SEd6piEzHLWTjGkwx49D6H6FZxQGWEHrKMDiIaV3Pu6adAQ-wjlg3IXptjM/pub)\n",
    "- [Preliminary Schedule](https://docs.google.com/spreadsheets/d/e/2PACX-1vS5UoXTmHDnF99kTHOiHIWuOBG7iqts-8EsbpoJHayRTB7F8eI4SfMR0MVp7dt0RQrMkNTVW6M1x-wY/pubhtml)\n",
    "- [Course D2L Page](https://d2l.msu.edu/d2l/home/832635)"
   ]
  },
  {
   "cell_type": "markdown",
   "metadata": {},
   "source": [
    "&#169; Copyright 2019,  Michigan State University Board of Trustees"
   ]
  }
 ],
 "metadata": {
  "anaconda-cloud": {},
  "kernelspec": {
   "display_name": "Python 3",
   "language": "python",
   "name": "python3"
  },
  "language_info": {
   "codemirror_mode": {
    "name": "ipython",
    "version": 3
   },
   "file_extension": ".py",
   "mimetype": "text/x-python",
   "name": "python",
   "nbconvert_exporter": "python",
   "pygments_lexer": "ipython3",
   "version": "3.6.3"
  }
 },
 "nbformat": 4,
 "nbformat_minor": 2
}
