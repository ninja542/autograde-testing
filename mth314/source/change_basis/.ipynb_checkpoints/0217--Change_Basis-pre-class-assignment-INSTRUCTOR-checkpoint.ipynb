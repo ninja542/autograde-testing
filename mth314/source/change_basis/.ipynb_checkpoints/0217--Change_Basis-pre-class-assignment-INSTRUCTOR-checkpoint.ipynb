{
 "cells": [
  {
   "cell_type": "markdown",
   "metadata": {},
   "source": [
    "In order to successfully complete this assignment you must do the required reading, watch the provided videos and complete all instructions.  The embedded Google form must be entirely filled out and submitted on or before **11:59pm on ##DUE_DATE##**.  Students must come to class the next day prepared to discuss the material covered in this assignment."
   ]
  },
  {
   "cell_type": "markdown",
   "metadata": {},
   "source": [
    "# Pre-Class Assignment: Matrix Spaces\n",
    "\n",
    "*Read sections 4.4-4.5, 5.1 of the textbook before doing this assignment.*"
   ]
  },
  {
   "cell_type": "markdown",
   "metadata": {},
   "source": [
    "# Goals for today's pre-class assignment \n",
    "\n",
    "</p>\n",
    "\n",
    "1. [Properties of Invertible Matrices - Theorem 4.18](#T1)\n",
    "1. [The Basis of a Vector Space](#T2)\n",
    "1. [Change of Basis](#T3)\n",
    "1. [Assignment wrap-up](#T4)"
   ]
  },
  {
   "cell_type": "code",
   "execution_count": 1,
   "metadata": {},
   "outputs": [
    {
     "name": "stdout",
     "output_type": "stream",
     "text": [
      "-oaRy9P5RL3\n",
      "-6345\n",
      "[['JO4264RyLN.a4VRvJRDo9' 'yGZMJ9R6v0.G0j2VeMyEN' 'BzxMgbRDYE.qGXR5xkYKz']\n",
      " ['Zm52ENky8A.gNd2Xp2QvW' 'yGZMJ9R6v0.9Ba2xakbNm' 'BzxMgbRDYE.9Ba2xakbNm']\n",
      " ['B7ZMOjRq0v.9Ba2xakbNm' 'JO4264RyLN.9Ba2xakbNm' 'BzxMgbRDYE.9Ba2xakbNm']]\n",
      "Incorrect matrix\n",
      "Correct!\n",
      "-B1Ok4pk5jQ.Gl4MQ62Lna\n",
      "-5.6\n",
      "Correct!\n",
      "5.6\n",
      "Zm52ENky8A.OPpJY4p4lK\n",
      "5.04353032432406\n",
      "5.006\n"
     ]
    }
   ],
   "source": [
    "%matplotlib inline\n",
    "import matplotlib.pylab as plt\n",
    "import numpy as np\n",
    "import sympy as sym\n",
    "sym.init_printing(use_unicode=True)\n",
    "import urllib.request\n",
    "hashid_data = urllib.request.urlopen(\"https://raw.githubusercontent.com/ninja542/autograde-testing/master/mth314/hashids.py\").read()\n",
    "with open(\"hashids.py\", \"wb+\") as f:\n",
    "    f.write(hashid_data)\n",
    "from hashids import Hashids\n",
    "\n",
    "hashids = Hashids(salt=\"mth314\", min_length=10)"
   ]
  },
  {
   "cell_type": "markdown",
   "metadata": {},
   "source": [
    "----\n",
    "<a name=\"T1\"></a>\n",
    "\n",
    "# 1.  Properties of Invertible Matrices - Theorem 4.18\n",
    "Let $A$ be an $n \\times n$ matrix. The following statements are equivalent.\n",
    "\n",
    "- $|A| \\ne 0$\n",
    "- $A$ is invertible.\n",
    "- $A$ is row equivalent to $I_n$ (i.e. it's reduced row echelon form is $I_n$)\n",
    "- The system of equations $Ax = b$ has a unique solution.\n",
    "- $rank(A) = n$\n",
    "- The column vectors of $A$ form a basis for $R^n$"
   ]
  },
  {
   "cell_type": "markdown",
   "metadata": {},
   "source": [
    "Consider the following set of two vectors:\n",
    "\n",
    "$$B = \\{(1,2), (3,-1)\\}$$\n"
   ]
  },
  {
   "cell_type": "markdown",
   "metadata": {},
   "source": [
    "&#9989; <font color=red>**QUESTION 1:**</font> Using some of the properties of Theorm 4.18, how could you show that $B$ is a basis of $R^2$?"
   ]
  },
  {
   "cell_type": "code",
   "execution_count": 2,
   "metadata": {},
   "outputs": [
    {
     "data": {
      "text/plain": [
       "array([[ 0.14285714,  0.28571429],\n",
       "       [ 0.42857143, -0.14285714]])"
      ]
     },
     "execution_count": 2,
     "metadata": {},
     "output_type": "execute_result"
    }
   ],
   "source": [
    "# B has an inverse\n",
    "B = np.array([[1,2],[3,-1]])\n",
    "np.linalg.inv(B)"
   ]
  },
  {
   "cell_type": "code",
   "execution_count": 3,
   "metadata": {},
   "outputs": [
    {
     "data": {
      "text/plain": [
       "array([[  6,  10],\n",
       "       [ -4, -10]])"
      ]
     },
     "execution_count": 3,
     "metadata": {},
     "output_type": "execute_result"
    }
   ],
   "source": [
    "test_array = np.array([[1,2],[-4,2]])\n",
    "test_array2 = np.array([[2,4],[2,3]])\n",
    "test_array @ test_array2 "
   ]
  },
  {
   "cell_type": "markdown",
   "metadata": {},
   "source": [
    "Consider the following matrix: "
   ]
  },
  {
   "cell_type": "markdown",
   "metadata": {},
   "source": [
    "$$A = \n",
    "\\left[\n",
    "\\begin{matrix}\n",
    "    1 & -3 \\\\\n",
    "    -2 & 6\n",
    "\\end{matrix}\n",
    "\\right] \n",
    "$$"
   ]
  },
  {
   "cell_type": "markdown",
   "metadata": {},
   "source": [
    "&#9989; <font color=red>**DO THIS**</font> Find the reduced echelon form of $A$."
   ]
  },
  {
   "cell_type": "code",
   "execution_count": 5,
   "metadata": {
    "nbgrader": {
     "grade": false,
     "grade_id": "cell-299833ba50caee57",
     "locked": false,
     "schema_version": 3,
     "solution": true,
     "task": false
    }
   },
   "outputs": [],
   "source": [
    "# Please enter A as a np.matrix()\n",
    "A = np.matrix([[]])\n",
    "# A = [[1,-3],[0,0]]\n",
    "\n",
    "### BEGIN SOLUTION\n",
    "A = np.matrix([[1,3],[0,0]])\n",
    "### END SOLUTION"
   ]
  },
  {
   "cell_type": "code",
   "execution_count": 9,
   "metadata": {
    "nbgrader": {
     "grade": true,
     "grade_id": "cell-1853b04b2aac88d5",
     "locked": true,
     "points": 1,
     "schema_version": 3,
     "solution": false,
     "task": false
    }
   },
   "outputs": [
    {
     "name": "stdout",
     "output_type": "stream",
     "text": [
      "[[1 3]\n",
      " [0 0]]\n"
     ]
    },
    {
     "ename": "TypeError",
     "evalue": "'str' object is not callable",
     "output_type": "error",
     "traceback": [
      "\u001b[1;31m---------------------------------------------------------------------------\u001b[0m",
      "\u001b[1;31mTypeError\u001b[0m                                 Traceback (most recent call last)",
      "\u001b[1;32m<ipython-input-9-ffb433a5a6c0>\u001b[0m in \u001b[0;36m<module>\u001b[1;34m\u001b[0m\n\u001b[0;32m      4\u001b[0m \u001b[1;32mimport\u001b[0m \u001b[0mbinascii\u001b[0m\u001b[1;33m\u001b[0m\u001b[0m\n\u001b[0;32m      5\u001b[0m \u001b[0mvec_f\u001b[0m \u001b[1;33m=\u001b[0m \u001b[0mnp\u001b[0m\u001b[1;33m.\u001b[0m\u001b[0mvectorize\u001b[0m\u001b[1;33m(\u001b[0m\u001b[0mhashids\u001b[0m\u001b[1;33m.\u001b[0m\u001b[0mencode\u001b[0m\u001b[1;33m(\u001b[0m\u001b[1;33m)\u001b[0m\u001b[1;33m)\u001b[0m\u001b[1;33m\u001b[0m\u001b[0m\n\u001b[1;32m----> 6\u001b[1;33m \u001b[0mvec_f\u001b[0m\u001b[1;33m(\u001b[0m\u001b[0mA\u001b[0m\u001b[1;33m)\u001b[0m\u001b[1;33m\u001b[0m\u001b[0m\n\u001b[0m",
      "\u001b[1;32mc:\\users\\claudia chen\\appdata\\local\\programs\\python\\python36-32\\lib\\site-packages\\numpy\\lib\\function_base.py\u001b[0m in \u001b[0;36m__call__\u001b[1;34m(self, *args, **kwargs)\u001b[0m\n\u001b[0;32m   2089\u001b[0m             \u001b[0mvargs\u001b[0m\u001b[1;33m.\u001b[0m\u001b[0mextend\u001b[0m\u001b[1;33m(\u001b[0m\u001b[1;33m[\u001b[0m\u001b[0mkwargs\u001b[0m\u001b[1;33m[\u001b[0m\u001b[0m_n\u001b[0m\u001b[1;33m]\u001b[0m \u001b[1;32mfor\u001b[0m \u001b[0m_n\u001b[0m \u001b[1;32min\u001b[0m \u001b[0mnames\u001b[0m\u001b[1;33m]\u001b[0m\u001b[1;33m)\u001b[0m\u001b[1;33m\u001b[0m\u001b[0m\n\u001b[0;32m   2090\u001b[0m \u001b[1;33m\u001b[0m\u001b[0m\n\u001b[1;32m-> 2091\u001b[1;33m         \u001b[1;32mreturn\u001b[0m \u001b[0mself\u001b[0m\u001b[1;33m.\u001b[0m\u001b[0m_vectorize_call\u001b[0m\u001b[1;33m(\u001b[0m\u001b[0mfunc\u001b[0m\u001b[1;33m=\u001b[0m\u001b[0mfunc\u001b[0m\u001b[1;33m,\u001b[0m \u001b[0margs\u001b[0m\u001b[1;33m=\u001b[0m\u001b[0mvargs\u001b[0m\u001b[1;33m)\u001b[0m\u001b[1;33m\u001b[0m\u001b[0m\n\u001b[0m\u001b[0;32m   2092\u001b[0m \u001b[1;33m\u001b[0m\u001b[0m\n\u001b[0;32m   2093\u001b[0m     \u001b[1;32mdef\u001b[0m \u001b[0m_get_ufunc_and_otypes\u001b[0m\u001b[1;33m(\u001b[0m\u001b[0mself\u001b[0m\u001b[1;33m,\u001b[0m \u001b[0mfunc\u001b[0m\u001b[1;33m,\u001b[0m \u001b[0margs\u001b[0m\u001b[1;33m)\u001b[0m\u001b[1;33m:\u001b[0m\u001b[1;33m\u001b[0m\u001b[0m\n",
      "\u001b[1;32mc:\\users\\claudia chen\\appdata\\local\\programs\\python\\python36-32\\lib\\site-packages\\numpy\\lib\\function_base.py\u001b[0m in \u001b[0;36m_vectorize_call\u001b[1;34m(self, func, args)\u001b[0m\n\u001b[0;32m   2159\u001b[0m             \u001b[0mres\u001b[0m \u001b[1;33m=\u001b[0m \u001b[0mfunc\u001b[0m\u001b[1;33m(\u001b[0m\u001b[1;33m)\u001b[0m\u001b[1;33m\u001b[0m\u001b[0m\n\u001b[0;32m   2160\u001b[0m         \u001b[1;32melse\u001b[0m\u001b[1;33m:\u001b[0m\u001b[1;33m\u001b[0m\u001b[0m\n\u001b[1;32m-> 2161\u001b[1;33m             \u001b[0mufunc\u001b[0m\u001b[1;33m,\u001b[0m \u001b[0motypes\u001b[0m \u001b[1;33m=\u001b[0m \u001b[0mself\u001b[0m\u001b[1;33m.\u001b[0m\u001b[0m_get_ufunc_and_otypes\u001b[0m\u001b[1;33m(\u001b[0m\u001b[0mfunc\u001b[0m\u001b[1;33m=\u001b[0m\u001b[0mfunc\u001b[0m\u001b[1;33m,\u001b[0m \u001b[0margs\u001b[0m\u001b[1;33m=\u001b[0m\u001b[0margs\u001b[0m\u001b[1;33m)\u001b[0m\u001b[1;33m\u001b[0m\u001b[0m\n\u001b[0m\u001b[0;32m   2162\u001b[0m \u001b[1;33m\u001b[0m\u001b[0m\n\u001b[0;32m   2163\u001b[0m             \u001b[1;31m# Convert args to object arrays first\u001b[0m\u001b[1;33m\u001b[0m\u001b[1;33m\u001b[0m\u001b[0m\n",
      "\u001b[1;32mc:\\users\\claudia chen\\appdata\\local\\programs\\python\\python36-32\\lib\\site-packages\\numpy\\lib\\function_base.py\u001b[0m in \u001b[0;36m_get_ufunc_and_otypes\u001b[1;34m(self, func, args)\u001b[0m\n\u001b[0;32m   2119\u001b[0m \u001b[1;33m\u001b[0m\u001b[0m\n\u001b[0;32m   2120\u001b[0m             \u001b[0minputs\u001b[0m \u001b[1;33m=\u001b[0m \u001b[1;33m[\u001b[0m\u001b[0marg\u001b[0m\u001b[1;33m.\u001b[0m\u001b[0mflat\u001b[0m\u001b[1;33m[\u001b[0m\u001b[1;36m0\u001b[0m\u001b[1;33m]\u001b[0m \u001b[1;32mfor\u001b[0m \u001b[0marg\u001b[0m \u001b[1;32min\u001b[0m \u001b[0margs\u001b[0m\u001b[1;33m]\u001b[0m\u001b[1;33m\u001b[0m\u001b[0m\n\u001b[1;32m-> 2121\u001b[1;33m             \u001b[0moutputs\u001b[0m \u001b[1;33m=\u001b[0m \u001b[0mfunc\u001b[0m\u001b[1;33m(\u001b[0m\u001b[1;33m*\u001b[0m\u001b[0minputs\u001b[0m\u001b[1;33m)\u001b[0m\u001b[1;33m\u001b[0m\u001b[0m\n\u001b[0m\u001b[0;32m   2122\u001b[0m \u001b[1;33m\u001b[0m\u001b[0m\n\u001b[0;32m   2123\u001b[0m             \u001b[1;31m# Performance note: profiling indicates that -- for simple\u001b[0m\u001b[1;33m\u001b[0m\u001b[1;33m\u001b[0m\u001b[0m\n",
      "\u001b[1;31mTypeError\u001b[0m: 'str' object is not callable"
     ]
    }
   ],
   "source": [
    "# print(np.allclose(A, np.matrix([[1,-3],[0,0]])))"
   ]
  },
  {
   "cell_type": "markdown",
   "metadata": {},
   "source": [
    "&#9989; <font color=red>**QUESTION 2**</font> Based on the answer above and Theorm 4.18, does $Ax=0$ have a unique solution? Explain your answer."
   ]
  },
  {
   "cell_type": "markdown",
   "metadata": {},
   "source": [
    "we don't know because the reduced echelon form of A is not the identity matrix, so Ax = 0 doesn't have a unique solution."
   ]
  },
  {
   "cell_type": "markdown",
   "metadata": {},
   "source": [
    "&#9989; <font color=red>**QUESTION 3:**</font> What is the rank of $A$?"
   ]
  },
  {
   "cell_type": "code",
   "execution_count": 55,
   "metadata": {
    "nbgrader": {
     "grade": false,
     "grade_id": "cell-749e4924b2d3296a",
     "locked": false,
     "schema_version": 3,
     "solution": true,
     "task": false
    }
   },
   "outputs": [],
   "source": [
    "# set a to your answer\n",
    "a = 0\n",
    "### BEGIN SOLTUION\n",
    "a = 1\n",
    "### END SOLUTION"
   ]
  },
  {
   "cell_type": "code",
   "execution_count": 57,
   "metadata": {
    "nbgrader": {
     "grade": true,
     "grade_id": "cell-d2be727aa2096c35",
     "locked": true,
     "points": 1,
     "schema_version": 3,
     "solution": false,
     "task": false
    }
   },
   "outputs": [
    {
     "name": "stdout",
     "output_type": "stream",
     "text": [
      "Correct!\n"
     ]
    }
   ],
   "source": [
    "hashids.check(a, \"3XlRo6kemW\")"
   ]
  },
  {
   "cell_type": "markdown",
   "metadata": {},
   "source": [
    "&#9989; <font color=red>**QUESTION 4:**</font> What is(are) the solution(s) to $Ax=0$?"
   ]
  },
  {
   "cell_type": "markdown",
   "metadata": {},
   "source": [
    "x = 3y"
   ]
  },
  {
   "cell_type": "markdown",
   "metadata": {},
   "source": [
    "----\n",
    "<a name=\"T2\"></a>\n",
    "# 2. The Basis of a Vector Space\n",
    "\n",
    "Let $U$ be a vector space with basis $B=\\{u_1, \\ldots, u_n\\}$, and let $u$ be a vector in $U$. \n",
    "Because a basis \"spans\" the vector space, we know that there exists unique scalars $a_1, \\dots a_n$ such that:\n",
    "\n",
    "$$ u = a_1u_1 + \\dots + a_nu_n$$\n",
    "\n",
    "The values $a_1, \\dots, a_n$ are called the **coordinates of $u$** relative to the basis ($B$) and is typically written as a column vector:\n",
    "\n",
    "$$ u_B = \n",
    "\\left[\n",
    "\\begin{matrix}\n",
    "    a_1  \\\\\n",
    "    \\vdots  \\\\\n",
    "    a_n \n",
    " \\end{matrix}\n",
    "\\right] \n",
    "$$\n",
    "\n",
    "We can create a *transition matrix* $P$ using the inverse of the matrix with the basis vectors being columns. \n",
    "\n",
    "$$P = [ u_1  \\ldots  u_n ]^{-1}$$\n",
    "\n",
    "Now we will show that matrix $P$ will transition vector $u$ in the standard coordinate system to the coordinates relative to the basis $B$:\n",
    "\n",
    "$$ u_B = Pu$$"
   ]
  },
  {
   "cell_type": "markdown",
   "metadata": {},
   "source": [
    "**EXAMPLE**: Consider the vector $u = \\left[ \\begin{matrix} 5 \\\\ 3 \\end{matrix} \\right]$ and the basis vectors $B = \\{(1,2), (3,-1)\\}$. \n",
    "The following code calculate the $P$ *transition matrix* from $B$ and then use $P$ to calculate the values of $u_B$ ($a_1$ and $a_2$):\n"
   ]
  },
  {
   "cell_type": "code",
   "execution_count": 4,
   "metadata": {
    "scrolled": false
   },
   "outputs": [
    {
     "data": {
      "text/latex": [
       "$$\\left[\\begin{matrix}2.0\\\\1.0\\end{matrix}\\right]$$"
      ],
      "text/plain": [
       "⎡2.0⎤\n",
       "⎢   ⎥\n",
       "⎣1.0⎦"
      ]
     },
     "execution_count": 4,
     "metadata": {},
     "output_type": "execute_result"
    }
   ],
   "source": [
    "B = np.matrix([[1,2],[3,-1]]).T\n",
    "u = np.matrix([[5],[3]])\n",
    "P = np.linalg.inv(B)\n",
    "ub = P*u\n",
    "\n",
    "sym.Matrix(ub)"
   ]
  },
  {
   "cell_type": "markdown",
   "metadata": {},
   "source": [
    "Here we would like to view this from $R^n$ \n",
    "Let $$B=[u_1 \\dots u_n],$$\n",
    "then the values of $u_B$ can be found by solving the linear system $$u = B u_B.$$\n",
    "Because the columns of $B$ is a basis, therefore, the matrix $B$ is a $n\\times n$ square matrix and it has an inverse. \n",
    "Therefore, we can solve the linear system and obtain \n",
    "$$u_b = B^{-1} u = Pu.$$\n"
   ]
  },
  {
   "cell_type": "markdown",
   "metadata": {},
   "source": [
    "Let's try to visualize this with a plot:"
   ]
  },
  {
   "cell_type": "code",
   "execution_count": 5,
   "metadata": {},
   "outputs": [
    {
     "data": {
      "image/png": "[encoded data removed]",
      "text/plain": [
       "<Figure size 432x288 with 1 Axes>"
      ]
     },
     "metadata": {
      "needs_background": "dark"
     },
     "output_type": "display_data"
    }
   ],
   "source": [
    "ax = plt.axes();\n",
    "\n",
    "\n",
    "#Blue arrow representing first Basis Vector\n",
    "ax.arrow(0, 0, B[0,0],B[1,0], head_width=.2, head_length=.2, fc='blue', ec='blue');\n",
    "\n",
    "\n",
    "#Green arrow representing Second Basis Vector\n",
    "plt.plot([0,B[0,1]],[0,B[1,1]],color='green'); #Need this line to make the figure work. Not sure why.\n",
    "ax.arrow(0, 0, B[0,1],B[1,1], head_width=.2, head_length=.2, fc='green', ec='green');\n",
    "\n",
    "#Original point u as a red dot\n",
    "ax.scatter(u[0,0],u[1,0], color='red');\n",
    "\n",
    "plt.show()\n",
    "#plt.axis('equal');\n"
   ]
  },
  {
   "cell_type": "markdown",
   "metadata": {},
   "source": [
    "Notice that the blue arrow represents the first basis vector and the green arrow is the second basis vector in $B$. \n",
    "The solution to $u_B$ shows 2 units along the blue vector and 1 units along the green vector, which puts us at the point (5,3). \n",
    "\n",
    "This is also called a change in coordinate systems."
   ]
  },
  {
   "cell_type": "markdown",
   "metadata": {},
   "source": [
    "&#9989; <font color=red>**QUESTION 5**</font>: What is the coordinate vector of $u$ relative to the given basis $B$ in $R^3$:  \n",
    "\n",
    "$$u = (9,-3,21)$$\n",
    "$$B = \\{(2,0,-1), (0,1,3), (1,1,1)\\}$$"
   ]
  },
  {
   "cell_type": "code",
   "execution_count": 6,
   "metadata": {
    "nbgrader": {
     "grade": false,
     "grade_id": "cell-e78c4ee965b07083",
     "locked": false,
     "schema_version": 3,
     "solution": true,
     "task": false
    }
   },
   "outputs": [
    {
     "name": "stdout",
     "output_type": "stream",
     "text": [
      "[[ 2  0  1]\n",
      " [ 0  1  1]\n",
      " [-1  3  1]]\n"
     ]
    },
    {
     "data": {
      "text/plain": [
       "matrix([[ 16.],\n",
       "        [ 20.],\n",
       "        [-23.]])"
      ]
     },
     "execution_count": 6,
     "metadata": {},
     "output_type": "execute_result"
    }
   ],
   "source": [
    "# Set your answer to ub1\n",
    "\n",
    "ub1 = np.matrix([[]])\n",
    "\n",
    "### BEGIN SOLUTION\n",
    "u1 = np.matrix([[9],[-3],[21]])\n",
    "B1 = np.matrix([[2,0,-1],[0,1,3],[1,1,1]]).T\n",
    "print(B1)\n",
    "P1 = np.linalg.inv(B1)\n",
    "# ub1 = P1 @ u1\n",
    "ub1 = P1 * u1\n",
    "ub1\n",
    "### END SOLUTION"
   ]
  },
  {
   "cell_type": "code",
   "execution_count": 7,
   "metadata": {
    "nbgrader": {
     "grade": true,
     "grade_id": "cell-2742f17854c5c084",
     "locked": true,
     "points": 0,
     "schema_version": 3,
     "solution": false,
     "task": false
    }
   },
   "outputs": [
    {
     "name": "stdout",
     "output_type": "stream",
     "text": [
      "Correct!\n"
     ]
    },
    {
     "data": {
      "text/plain": [
       "True"
      ]
     },
     "execution_count": 7,
     "metadata": {},
     "output_type": "execute_result"
    }
   ],
   "source": [
    "correct_answer = np.matrix([['Gl4MQ62Lna.9Ba2xakbNm'],\n",
    "       ['1Eo2rwkK0A.9Ba2xakbNm'],\n",
    "       ['-ae6kbGR0Qy.9Ba2xakbNm']], dtype='<U30')\n",
    "hashids.check_matrix(ub1, correct_answer)"
   ]
  },
  {
   "cell_type": "markdown",
   "metadata": {},
   "source": [
    "*Let's look into the matrix $P$, what is the meaning of the columns of the matrix $P$?*\n",
    "\n",
    "We know that $P$ is the inverse of $B$, therefore, we have $$BP=I.$$\n",
    "Then we can look at the first column of the $P$, say $p_{1}$, we have that $Bp_1$ is the column vector $(1,0,0)^\\top$, which  is exactly the first component from the standard basis. \n",
    "This is true for other columns. \n",
    "It means that if we want to change an old basis $B$ to a nwe basis $B'$, we need to find out all the coordinates in the new basis for the old basis, and the transition matrix is by putting all he coordinates as columns."
   ]
  },
  {
   "cell_type": "code",
   "execution_count": 8,
   "metadata": {},
   "outputs": [
    {
     "name": "stdout",
     "output_type": "stream",
     "text": [
      "[[ 16.]\n",
      " [ 20.]\n",
      " [-23.]]\n"
     ]
    }
   ],
   "source": [
    "B = np.matrix([[2,0,-1],[0,1,3],[1,1,1]]).T\n",
    "# The first column of P should be \n",
    "u1 = np.matrix([1,0,0]).T\n",
    "p1 = np.linalg.solve(B,u1)\n",
    "# The second column of P should be \n",
    "u2 = np.matrix([0,1,0]).T\n",
    "p2 = np.linalg.solve(B,u2)\n",
    "# The third column of P should be \n",
    "u3 = np.matrix([0,0,1]).T\n",
    "p3 = np.linalg.solve(B,u3)\n",
    "# concatenate three column together into a 3x3 matrix\n",
    "P = np.concatenate((p1, p2, p3), axis=1)\n",
    "# Find the new coordinate in the new basis\n",
    "u = np.matrix([9,-3,21]).T\n",
    "UB = P*u\n",
    "print(UB)"
   ]
  },
  {
   "cell_type": "markdown",
   "metadata": {},
   "source": [
    "(**Optional** [Example 2 in Section 5.1 of the textbook, Page 301]) Let's make it complicated. \n",
    "Here we consider the vector space that is not $R^n$. \n",
    "Find the coordinate vectors of $u=5x^2+x+9$ relative to the following bases of $P_2$ (the polynomial with order not great than 2):\n",
    "\n",
    "(a) The standard basis, $B=\\{x^2, x , 1\\}$\n",
    "\n",
    "(b) $B'=\\{x^2-x+1, 3x^2-1, 2x^2+x+2\\}$\n",
    "\n",
    "It is easy to see that $u = 5 (x^2) + 1(x) + 9(1)$, therefore,\n",
    "$$u_B=[5, 1, 9]^\\top.$$"
   ]
  },
  {
   "cell_type": "markdown",
   "metadata": {},
   "source": [
    "&#9989; <font color=red>**DO IT**</font>: What is the coordinate vector of $u_{B'}$ relative to the given basis $B'$ in for $P_2$ (the polynomial with order not greater than 2): "
   ]
  },
  {
   "cell_type": "markdown",
   "metadata": {},
   "source": [
    "$$ a(x^2-x+1) + b(3x^2-1) + c(2x^2 + x + 2) = 5x^2 + x + 9 $$\n",
    "\n",
    "$$ a + 3b + 2c = 5 $$\n",
    "$$ -a + c = 1 $$\n",
    "$$ a - b + 2c = 9 $$"
   ]
  },
  {
   "cell_type": "code",
   "execution_count": 13,
   "metadata": {},
   "outputs": [
    {
     "data": {
      "text/plain": [
       "matrix([[ 2.],\n",
       "        [-1.],\n",
       "        [ 3.]])"
      ]
     },
     "execution_count": 13,
     "metadata": {},
     "output_type": "execute_result"
    }
   ],
   "source": [
    "constants = np.matrix([[1,3,2],[-1,0,1],[1,-1,2]])\n",
    "final = np.matrix([[5],[1],[9]])\n",
    "\n",
    "constants.I * final"
   ]
  },
  {
   "cell_type": "markdown",
   "metadata": {},
   "source": [
    "----\n",
    "<a name=\"T3\"></a>\n",
    "\n",
    "# 3. Change of Basis\n",
    "\n",
    "Now consider the following two bases in $R^2$:\n",
    "\n",
    "$$B_1 = \\{(1,2), (3,-1)\\}$$\n",
    "$$B_2 = \\{(3,1), (5,2)\\}$$\n",
    "\n",
    "The transformation from the \"standard basis\" to $B_1$ and $B_2$ can be defined as the column vectors $P_1$ and $P_2$ as follows:\n"
   ]
  },
  {
   "cell_type": "code",
   "execution_count": 10,
   "metadata": {},
   "outputs": [
    {
     "data": {
      "text/latex": [
       "$$\\left[\\begin{matrix}0.142857142857143 & 0.428571428571429\\\\0.285714285714286 & -0.142857142857143\\end{matrix}\\right]$$"
      ],
      "text/plain": [
       "⎡0.142857142857143  0.428571428571429 ⎤\n",
       "⎢                                     ⎥\n",
       "⎣0.285714285714286  -0.142857142857143⎦"
      ]
     },
     "execution_count": 10,
     "metadata": {},
     "output_type": "execute_result"
    }
   ],
   "source": [
    "B1 = np.matrix([[1,2],[3,-1]]).T\n",
    "P1 = sym.Matrix(np.linalg.inv(B1))\n",
    "P1"
   ]
  },
  {
   "cell_type": "code",
   "execution_count": 11,
   "metadata": {},
   "outputs": [
    {
     "data": {
      "text/latex": [
       "$$\\left[\\begin{matrix}2.0 & -5.0\\\\-1.0 & 3.0\\end{matrix}\\right]$$"
      ],
      "text/plain": [
       "⎡2.0   -5.0⎤\n",
       "⎢          ⎥\n",
       "⎣-1.0  3.0 ⎦"
      ]
     },
     "execution_count": 11,
     "metadata": {},
     "output_type": "execute_result"
    }
   ],
   "source": [
    "B2 = np.matrix([[3,1],[5,2]]).T\n",
    "P2 = sym.Matrix(np.linalg.inv(B2))\n",
    "P2"
   ]
  },
  {
   "cell_type": "markdown",
   "metadata": {},
   "source": [
    "&#9989; <font color=red>**DO THIS**</font>: Find the transition matrix $T$ that will take points in the $B_1$ coordinate representation and put them into $B_2$ coordinates.   (**HINT:** Reread the subsection titled \"Change of Basis\" of Section 5.1 on page 302 of the textbook.)"
   ]
  },
  {
   "cell_type": "code",
   "execution_count": 15,
   "metadata": {
    "nbgrader": {
     "grade": false,
     "grade_id": "cell-278d7b77e60782e1",
     "locked": false,
     "schema_version": 3,
     "solution": true,
     "task": false
    }
   },
   "outputs": [
    {
     "data": {
      "text/plain": [
       "array([['-Zm52ElMy8A.3LGOp6P9vdO', '9Ba2xakbNm.3LGOp6P9vdO'],\n",
       "       ['JO4264RyLN.xLaY1n40vy6', '-B1Ok4pk5jQ.Z1lLQjWE9x8']],\n",
       "      dtype='<U30')"
      ]
     },
     "execution_count": 15,
     "metadata": {},
     "output_type": "execute_result"
    }
   ],
   "source": [
    "# Autograded test\n",
    "# Set your answer to T\n",
    "T = np.matrix([[]])\n",
    "\n",
    "### BEGIN SOLUTION\n",
    "P2 = np.linalg.inv(B2)\n",
    "P1 = np.linalg.inv(B1)\n",
    "T = P2*B1\n",
    "T = np.matrix(T)\n",
    "hashids.encode_matrix(T)\n",
    "### END SOLUTION"
   ]
  },
  {
   "cell_type": "code",
   "execution_count": 16,
   "metadata": {
    "nbgrader": {
     "grade": true,
     "grade_id": "cell-134913f2a30c503a",
     "locked": true,
     "points": 0,
     "schema_version": 3,
     "solution": false,
     "task": false
    }
   },
   "outputs": [
    {
     "name": "stdout",
     "output_type": "stream",
     "text": [
      "Correct!\n"
     ]
    },
    {
     "data": {
      "text/plain": [
       "True"
      ]
     },
     "execution_count": 16,
     "metadata": {},
     "output_type": "execute_result"
    }
   ],
   "source": [
    "correct_matrix = np.array([['-Zm52ElMy8A.3LGOp6P9vdO', '9Ba2xakbNm.3LGOp6P9vdO'],\n",
    "       ['JO4264RyLN.xLaY1n40vy6', '-B1Ok4pk5jQ.Z1lLQjWE9x8']],\n",
    "      dtype='<U30')\n",
    "hashids.check_matrix(T, correct_matrix)"
   ]
  },
  {
   "cell_type": "markdown",
   "metadata": {},
   "source": [
    "&#9989; <font color=red>**QUESTION 6**</font>: Given $u_{B_1} = \\left[ \\begin{matrix} 2 \\\\ 1 \\end{matrix} \\right]$ and your calculated transition matrix $T$, what is the same points expressed in the $B_2$ basis (i.e. what is $u_{B2}$)?"
   ]
  },
  {
   "cell_type": "code",
   "execution_count": 18,
   "metadata": {},
   "outputs": [
    {
     "data": {
      "text/latex": [
       "$$\\left[\\begin{matrix}2\\\\1\\end{matrix}\\right]$$"
      ],
      "text/plain": [
       "⎡2⎤\n",
       "⎢ ⎥\n",
       "⎣1⎦"
      ]
     },
     "execution_count": 18,
     "metadata": {},
     "output_type": "execute_result"
    }
   ],
   "source": [
    "ub1 = np.matrix([[2],[1]])\n",
    "sym.Matrix(ub1)"
   ]
  },
  {
   "cell_type": "code",
   "execution_count": 19,
   "metadata": {
    "nbgrader": {
     "grade": false,
     "grade_id": "cell-901caec32d92fdaf",
     "locked": false,
     "schema_version": 3,
     "solution": true,
     "task": false
    }
   },
   "outputs": [
    {
     "data": {
      "text/plain": [
       "array([['-Y4Zk3eMEWQ.4r84zdlENAZ'],\n",
       "       ['yGZMJ9R6v0.y9abnA30vVQ']], dtype='<U30')"
      ]
     },
     "execution_count": 19,
     "metadata": {},
     "output_type": "execute_result"
    }
   ],
   "source": [
    "# Autograded Answer\n",
    "# Set ub2 to your answer\n",
    "\n",
    "ub2 = np.matrix([[]])\n",
    "\n",
    "### BEGIN SOLUTION\n",
    "ub2 = T*ub1\n",
    "ub2\n",
    "hashids.encode_matrix(ub2)\n",
    "### END SOLUTION"
   ]
  },
  {
   "cell_type": "code",
   "execution_count": 21,
   "metadata": {
    "nbgrader": {
     "grade": true,
     "grade_id": "cell-aee72ed8bd038815",
     "locked": true,
     "points": 0,
     "schema_version": 3,
     "solution": false,
     "task": false
    }
   },
   "outputs": [
    {
     "name": "stdout",
     "output_type": "stream",
     "text": [
      "Correct!\n"
     ]
    },
    {
     "data": {
      "text/plain": [
       "True"
      ]
     },
     "execution_count": 21,
     "metadata": {},
     "output_type": "execute_result"
    }
   ],
   "source": [
    "correct_matrix = np.array([['-Y4Zk3eMEWQ.4r84zdlENAZ'],\n",
    "       ['yGZMJ9R6v0.y9abnA30vVQ']], dtype='<U30')\n",
    "hashids.check_matrix(ub2, correct_matrix)"
   ]
  },
  {
   "cell_type": "markdown",
   "metadata": {},
   "source": [
    "There are there bases $B_1$, $B_2$, and $B_3$. We have the transition matrix $P_{12}$ from $B_1$ to $B_2$ and the transition matrix $P_{23}$ from $B_2$ to $B_3$. \n",
    "In $R^n$, we can compute the transition matrix as $$P_{12}=B_2^{-1}B_1,\\quad P_{23}=B_3^{-1}B_2$$\n",
    "\n",
    "Then we can find all other transition matrices.\n",
    "$$P_{13} = B_3^{-1}B_1=B_3^{-1}B_2*B_2^{-1}B_1= P_{23}P_{12}$$\n",
    "$$P_{21} = B_1^{-1}B_2 = (B_2^{-1}B_1)^{-1}=P_{12}^{-1}$$\n",
    "$$P_{32} = B_2^{-1}B_3 = (B_3^{-1}B_2)^{-1}=P_{23}^{-1}$$\n",
    "$$P_{31} = B_1^{-1}B_3 = (B_3^{-1}B_1)^{-1}=P_{13}^{-1}=(P_{23}P_{12})^{-1}=P_{12}^{-1}P_{23}^{-1}$$\n",
    "\n",
    "The result is true for general vector spaces and can be extended to many bases."
   ]
  },
  {
   "cell_type": "markdown",
   "metadata": {},
   "source": [
    "----\n",
    "\n",
    "<a name=\"T4\"></a>\n",
    "# 4. Assignment wrap-up\n",
    "\n",
    "Please fill out the form that appears when you run the code below.  **You must completely fill this out in order to receive credit for the assignment!**\n",
    "\n",
    "[Direct Link to Google Form](https://cmse.msu.edu/cmse314-pc-survey)\n",
    "\n",
    "\n",
    "If you have trouble with the embedded form, please make sure you log on with your MSU google account at [googleapps.msu.edu](https://googleapps.msu.edu) and then click on the direct link above."
   ]
  },
  {
   "cell_type": "markdown",
   "metadata": {},
   "source": [
    "&#9989; <font color=red>**Assignment-Specific QUESTION:**</font> There is no Assignment specific question for this notebook. You can just say \"none\"."
   ]
  },
  {
   "cell_type": "markdown",
   "metadata": {},
   "source": [
    "Put your answer to the above question here"
   ]
  },
  {
   "cell_type": "markdown",
   "metadata": {},
   "source": [
    "&#9989; <font color=red>**QUESTION:**</font>  Summarize what you did in this assignment."
   ]
  },
  {
   "cell_type": "markdown",
   "metadata": {},
   "source": [
    "Put your answer to the above question here"
   ]
  },
  {
   "cell_type": "markdown",
   "metadata": {},
   "source": [
    "&#9989; <font color=red>**QUESTION:**</font>  What questions do you have, if any, about any of the topics discussed in this assignment after working through the jupyter notebook?"
   ]
  },
  {
   "cell_type": "markdown",
   "metadata": {},
   "source": [
    "Put your answer to the above question here"
   ]
  },
  {
   "cell_type": "markdown",
   "metadata": {},
   "source": [
    "&#9989; <font color=red>**QUESTION:**</font>  How well do you feel this assignment helped you to achieve a better understanding of the above mentioned topic(s)?"
   ]
  },
  {
   "cell_type": "markdown",
   "metadata": {},
   "source": [
    "Put your answer to the above question here"
   ]
  },
  {
   "cell_type": "markdown",
   "metadata": {},
   "source": [
    "&#9989; <font color=red>**QUESTION:**</font> What was the **most** challenging part of this assignment for you? "
   ]
  },
  {
   "cell_type": "markdown",
   "metadata": {},
   "source": [
    "Put your answer to the above question here"
   ]
  },
  {
   "cell_type": "markdown",
   "metadata": {},
   "source": [
    "&#9989; <font color=red>**QUESTION:**</font> What was the **least** challenging part of this assignment for you? "
   ]
  },
  {
   "cell_type": "markdown",
   "metadata": {},
   "source": [
    "Put your answer to the above question here"
   ]
  },
  {
   "cell_type": "markdown",
   "metadata": {},
   "source": [
    "&#9989; <font color=red>**QUESTION:**</font>  What kind of additional questions or support, if any, do you feel you need to have a better understanding of the content in this assignment?"
   ]
  },
  {
   "cell_type": "markdown",
   "metadata": {},
   "source": [
    "Put your answer to the above question here"
   ]
  },
  {
   "cell_type": "markdown",
   "metadata": {},
   "source": [
    "&#9989; <font color=red>**QUESTION:**</font>  Do you have any further questions or comments about this material, or anything else that's going on in class?"
   ]
  },
  {
   "cell_type": "markdown",
   "metadata": {},
   "source": [
    "Put your answer to the above question here"
   ]
  },
  {
   "cell_type": "markdown",
   "metadata": {},
   "source": [
    "&#9989; <font color=red>**QUESTION:**</font> Approximately how long did this pre-class assignment take?"
   ]
  },
  {
   "cell_type": "markdown",
   "metadata": {},
   "source": [
    "Put your answer to the above question here"
   ]
  },
  {
   "cell_type": "code",
   "execution_count": null,
   "metadata": {},
   "outputs": [],
   "source": [
    "from IPython.display import HTML\n",
    "HTML(\n",
    "\"\"\"\n",
    "<iframe \n",
    "\tsrc=\"https://cmse.msu.edu/cmse314-pc-survey\" \n",
    "\twidth=\"100%\" \n",
    "\theight=\"1000px\" \n",
    "\tframeborder=\"0\" \n",
    "\tmarginheight=\"0\" \n",
    "\tmarginwidth=\"0\">\n",
    "\tLoading...\n",
    "</iframe>\n",
    "\"\"\"\n",
    ")"
   ]
  },
  {
   "cell_type": "markdown",
   "metadata": {},
   "source": [
    "---------\n",
    "### Congratulations, we're done!\n",
    "\n",
    "To get credit for this assignment you must fill out and submit the above Google From on or before the assignment due date."
   ]
  },
  {
   "cell_type": "markdown",
   "metadata": {},
   "source": [
    "### Course Resources:\n",
    "\n",
    "- [Syllabus](https://docs.google.com/document/d/e/2PACX-1vRAFflQFXulzSMwWcyr_SEd6piEzHLWTjGkwx49D6H6FZxQGWEHrKMDiIaV3Pu6adAQ-wjlg3IXptjM/pub)\n",
    "- [Preliminary Schedule](https://docs.google.com/spreadsheets/d/e/2PACX-1vS5UoXTmHDnF99kTHOiHIWuOBG7iqts-8EsbpoJHayRTB7F8eI4SfMR0MVp7dt0RQrMkNTVW6M1x-wY/pubhtml)\n",
    "- [Course D2L Page](https://d2l.msu.edu/d2l/home/832635)"
   ]
  },
  {
   "cell_type": "markdown",
   "metadata": {},
   "source": [
    "&#169; Copyright 2019,  Michigan State University Board of Trustees"
   ]
  }
 ],
 "metadata": {
  "anaconda-cloud": {},
  "celltoolbar": "Create Assignment",
  "kernelspec": {
   "display_name": "Python 3",
   "language": "python",
   "name": "python3"
  },
  "language_info": {
   "codemirror_mode": {
    "name": "ipython",
    "version": 3
   },
   "file_extension": ".py",
   "mimetype": "text/x-python",
   "name": "python",
   "nbconvert_exporter": "python",
   "pygments_lexer": "ipython3",
   "version": "3.6.3"
  }
 },
 "nbformat": 4,
 "nbformat_minor": 1
}
