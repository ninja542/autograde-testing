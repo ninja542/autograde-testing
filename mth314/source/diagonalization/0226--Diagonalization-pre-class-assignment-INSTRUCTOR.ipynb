{
 "cells": [
  {
   "cell_type": "markdown",
   "metadata": {},
   "source": [
    "In order to successfully complete this assignment you must do the required reading, watch the provided videos and complete all instructions.  The embedded Google form must be entirely filled out and submitted on or before **11:59pm on Wednesday October 23**.  Students must come to class the next day prepared to discuss the material covered in this assignment. answer"
   ]
  },
  {
   "cell_type": "markdown",
   "metadata": {},
   "source": [
    "# Pre-Class Assignment: Diagonalization and Powers"
   ]
  },
  {
   "cell_type": "markdown",
   "metadata": {},
   "source": [
    "# Goals for today's pre-class assignment \n",
    "\n",
    "</p>\n",
    "\n",
    "\n",
    "\n",
    "1. [Eigenvalues and eigenvectors review](#Eigenvalues_and_eigenvectors_review)\n",
    "1. [Diagonalizable Matrix](#Diagonalizable_Matrix)\n",
    "1. [Assignment wrap-up](#Assignment_wrap-up)"
   ]
  },
  {
   "cell_type": "code",
   "execution_count": 1,
   "metadata": {},
   "outputs": [],
   "source": [
    "%matplotlib inline\n",
    "import matplotlib.pylab as plt\n",
    "import numpy as np\n",
    "import sympy as sym\n",
    "sym.init_printing()"
   ]
  },
  {
   "cell_type": "markdown",
   "metadata": {},
   "source": [
    "----\n",
    "<a name=\"Eigenvalues_and_eigenvectors_review\"></a>\n",
    "# 1. Eigenvalues and eigenvectors review\n",
    "\n",
    "**Definition**: A non-zero vector $x$ in $R^n$ is called an *eigenvector* of a $n\\times n$ matrix $A$ if $Ax$ is a scalar multiple of $x$. If $Ax = \\lambda x$, then $\\lambda$ is called the *eigenvalue* of $A$ corresponding to $x$."
   ]
  },
  {
   "cell_type": "markdown",
   "metadata": {},
   "source": [
    "### Steps for Finding the eigenvalues and eigenvectors\n",
    "\n",
    "We want to find $\\lambda$ and non-zero vector $x$ such that $Ax=\\lambda x$ for a $n\\times n$ matrix. \n",
    "1. We introduce an identity matrix $I$ of $n\\times n$. Then the equation becomes\n",
    "$$Ax = \\lambda I x$$\n",
    "$$Ax-\\lambda I x = 0$$\n",
    "$$(A-\\lambda I)x = 0$$\n",
    "2. This suggests that we want to find $\\lambda$ such that $(A-\\lambda I)x=0$ has non-trivial solution. \n",
    "It is equivalent to that the matrix $A-\\lambda I$ is singular, i.e., has a determinant of $0$.\n",
    "$$|A-\\lambda I|=0$$\n",
    "3. The determinant is polynomial in $\\lambda$ (called the characteristic polynomial of $A$) with degree $n$. We solve this equation (called the characteristic equation) for all possible $\\lambda$ (eigenvalues).\n",
    "4. After find the eigenvalues, substitute them back into \n",
    "$$(A-\\lambda I)x=0$$\n",
    "and find the eigenvectors $x$. \n"
   ]
  },
  {
   "cell_type": "markdown",
   "metadata": {},
   "source": [
    "Lets consider an example. Lets calculate eigenvalues for the folling matrix: \n",
    "\n",
    "$$ A=\\begin{bmatrix} 0 & 0 & -2 \\\\ 1 & 2 & 1 \\\\ 1 & 0 & 3 \\end{bmatrix}$$"
   ]
  },
  {
   "cell_type": "markdown",
   "metadata": {},
   "source": [
    "&#9989; <font color=red>**Do This:**</font>  First, lets do use the built in funciton ```eigenvals``` function in ```sympy``` to calculate the eigenvalues"
   ]
  },
  {
   "cell_type": "code",
   "execution_count": 3,
   "metadata": {},
   "outputs": [
    {
     "data": {
      "image/png": "[encoded data removed]",
      "text/latex": [
       "$$\\left \\{ 1 : 1, \\quad 2 : 2\\right \\}$$"
      ],
      "text/plain": [
       "{1: 1, 2: 2}"
      ]
     },
     "execution_count": 3,
     "metadata": {},
     "output_type": "execute_result"
    }
   ],
   "source": [
    "A = sym.Matrix([[0,0,-2],[1,2,1],[1,0,3]])\n",
    "A.eigenvals()"
   ]
  },
  {
   "cell_type": "markdown",
   "metadata": {},
   "source": [
    "That should work but it dosn't show us what is going on.  Looking at the above recipe, lets solve the problem symbollically using sympy. First lets create a matrix $B$ such that:\n",
    "\n",
    "$$B = A-\\lambda I$$"
   ]
  },
  {
   "cell_type": "code",
   "execution_count": 5,
   "metadata": {},
   "outputs": [
    {
     "data": {
      "text/latex": [
       "$$\\left[\\begin{matrix}- \\lambda & 0 & -2\\\\1 & - \\lambda + 2 & 1\\\\1 & 0 & - \\lambda + 3\\end{matrix}\\right]$$"
      ],
      "text/plain": [
       "⎡-λ    0       -2  ⎤\n",
       "⎢                  ⎥\n",
       "⎢1   -λ + 2    1   ⎥\n",
       "⎢                  ⎥\n",
       "⎣1     0     -λ + 3⎦"
      ]
     },
     "execution_count": 5,
     "metadata": {},
     "output_type": "execute_result"
    }
   ],
   "source": [
    "#Most sympy requires defeing the variables as \"symbols\"\n",
    "#Once we do this we can use the variables in place of numbers\n",
    "lam = sym.symbols('lambda')\n",
    "\n",
    "A = sym.Matrix([[0, 0 ,-2], [1, 2, 1], [1, 0, 3]])\n",
    "I = sym.eye(3)\n",
    "\n",
    "B = A - lam*I\n",
    "\n",
    "B"
   ]
  },
  {
   "cell_type": "markdown",
   "metadata": {},
   "source": [
    "Now, per step 2 the determinate of $B$ must be zero. Note that sympy calculates the determinate symbollically as follows:"
   ]
  },
  {
   "cell_type": "code",
   "execution_count": 6,
   "metadata": {},
   "outputs": [
    {
     "data": {
      "image/png": "[encoded data removed]",
      "text/latex": [
       "$$- \\lambda \\left(- \\lambda + 2\\right) \\left(- \\lambda + 3\\right) - 2 \\lambda + 4$$"
      ],
      "text/plain": [
       "-λ⋅(-λ + 2)⋅(-λ + 3) - 2⋅λ + 4"
      ]
     },
     "execution_count": 6,
     "metadata": {},
     "output_type": "execute_result"
    }
   ],
   "source": [
    "B.det()"
   ]
  },
  {
   "cell_type": "markdown",
   "metadata": {},
   "source": [
    "&#9989; <font color=red>**Do This:**</font>  Using the ```sympy.solve``` function on the determinate of $B$ solve for ```lam``` ($\\lambda$)."
   ]
  },
  {
   "cell_type": "code",
   "execution_count": 7,
   "metadata": {},
   "outputs": [
    {
     "data": {
      "image/png": "[encoded data removed]",
      "text/latex": [
       "$$\\left [ 1, \\quad 2\\right ]$$"
      ],
      "text/plain": [
       "[1, 2]"
      ]
     },
     "execution_count": 7,
     "metadata": {},
     "output_type": "execute_result"
    }
   ],
   "source": [
    "# Put your code to solve for det(B) = 0 here\n",
    "sym.solve(B.det())"
   ]
  },
  {
   "cell_type": "markdown",
   "metadata": {},
   "source": [
    "Verify that the solution to the last question produces the same eigenvalues as above. "
   ]
  },
  {
   "cell_type": "markdown",
   "metadata": {},
   "source": [
    "Now that we know the eigenvalues we can substitue them back into the equation to find the eigenvectors.  \n",
    "\n",
    "&#9989; <font color=red>**Do This:**</font>  First, lets use the ```eigenvects```  function in ```sympy```find three linear independent eigenvectors for the matrix $A$?"
   ]
  },
  {
   "cell_type": "code",
   "execution_count": 8,
   "metadata": {},
   "outputs": [
    {
     "data": {
      "text/latex": [
       "$$\\left [ \\left ( - \\lambda + 1, \\quad 1, \\quad \\left [ \\left[\\begin{matrix}-2\\\\1\\\\1\\end{matrix}\\right]\\right ]\\right ), \\quad \\left ( - \\lambda + 2, \\quad 2, \\quad \\left [ \\left[\\begin{matrix}0\\\\1\\\\0\\end{matrix}\\right], \\quad \\left[\\begin{matrix}-1\\\\0\\\\1\\end{matrix}\\right]\\right ]\\right )\\right ]$$"
      ],
      "text/plain": [
       "⎡⎛           ⎡⎡-2⎤⎤⎞  ⎛           ⎡⎡0⎤  ⎡-1⎤⎤⎞⎤\n",
       "⎢⎜           ⎢⎢  ⎥⎥⎟  ⎜           ⎢⎢ ⎥  ⎢  ⎥⎥⎟⎥\n",
       "⎢⎜-λ + 1, 1, ⎢⎢1 ⎥⎥⎟, ⎜-λ + 2, 2, ⎢⎢1⎥, ⎢0 ⎥⎥⎟⎥\n",
       "⎢⎜           ⎢⎢  ⎥⎥⎟  ⎜           ⎢⎢ ⎥  ⎢  ⎥⎥⎟⎥\n",
       "⎣⎝           ⎣⎣1 ⎦⎦⎠  ⎝           ⎣⎣0⎦  ⎣1 ⎦⎦⎠⎦"
      ]
     },
     "execution_count": 8,
     "metadata": {},
     "output_type": "execute_result"
    }
   ],
   "source": [
    "# Put your answer to the above question here\n",
    "B.eigenvects()"
   ]
  },
  {
   "cell_type": "markdown",
   "metadata": {},
   "source": [
    "Next break down these steps and solve this symbollically using sympy. First lets make a vector of our eigenvalues (from above):"
   ]
  },
  {
   "cell_type": "code",
   "execution_count": 9,
   "metadata": {},
   "outputs": [],
   "source": [
    "eig = [1,2]"
   ]
  },
  {
   "cell_type": "markdown",
   "metadata": {},
   "source": [
    "Now (per step 4 above) we need to solve the equation $(A-\\lambda I)x=0$. One way to do this in numpy is as follows:"
   ]
  },
  {
   "cell_type": "code",
   "execution_count": 10,
   "metadata": {},
   "outputs": [
    {
     "data": {
      "text/latex": [
       "$$\\left[\\begin{matrix}x_{1}\\\\x_{2}\\\\x_{3}\\end{matrix}\\right]$$"
      ],
      "text/plain": [
       "⎡x₁⎤\n",
       "⎢  ⎥\n",
       "⎢x₂⎥\n",
       "⎢  ⎥\n",
       "⎣x₃⎦"
      ]
     },
     "execution_count": 10,
     "metadata": {},
     "output_type": "execute_result"
    }
   ],
   "source": [
    "x1,x2,x3 = sym.symbols(['x_1','x_2','x_3'])\n",
    "\n",
    "x = sym.Matrix([[x1],[x2],[x3]])\n",
    "x"
   ]
  },
  {
   "cell_type": "code",
   "execution_count": 11,
   "metadata": {},
   "outputs": [
    {
     "name": "stdout",
     "output_type": "stream",
     "text": [
      "{x_2: x_3, x_1: -2*x_3}\n",
      "{x_1: -x_3}\n"
     ]
    }
   ],
   "source": [
    "for e in eig:\n",
    "    vec = sym.solve((A - e*I)*x,x)\n",
    "    print(vec)"
   ]
  },
  {
   "cell_type": "markdown",
   "metadata": {},
   "source": [
    "&#9989; <font color=red>**QUESTION:**</font>  Compare this answer to the eigenvectors we calculated above. Does this answer make sense?  What does the syntax tell us? "
   ]
  },
  {
   "cell_type": "markdown",
   "metadata": {},
   "source": [
    "eigenvects gives us an example of a vector, while sym solve gives us a general form of the vector"
   ]
  },
  {
   "cell_type": "markdown",
   "metadata": {},
   "source": [
    "&#9989; <font color=red>**DO THIS:**</font> Find the eigenvalues and eigenvectors of the following matrix:\n",
    "$$ A2=\\begin{bmatrix} 2 & 1 \\\\ 0 & 2 \\end{bmatrix}$$"
   ]
  },
  {
   "cell_type": "markdown",
   "metadata": {},
   "source": [
    "&#9989; <font color=red>**QUESTION:**</font>  What are the eigenvalues for the matrix $A2$?"
   ]
  },
  {
   "cell_type": "code",
   "execution_count": 14,
   "metadata": {},
   "outputs": [
    {
     "data": {
      "image/png": "[encoded data removed]",
      "text/latex": [
       "$$\\left \\{ 2 : 2\\right \\}$$"
      ],
      "text/plain": [
       "{2: 2}"
      ]
     },
     "execution_count": 14,
     "metadata": {},
     "output_type": "execute_result"
    }
   ],
   "source": [
    "A2 = sym.Matrix([[2,1],[0,2]])\n",
    "A2.eigenvals()"
   ]
  },
  {
   "cell_type": "markdown",
   "metadata": {},
   "source": [
    "&#9989; <font color=red>**QUESTION 6:**</font>  What are the eigenvectors for the matrix $A2$?"
   ]
  },
  {
   "cell_type": "code",
   "execution_count": 13,
   "metadata": {},
   "outputs": [
    {
     "data": {
      "text/latex": [
       "$$\\left [ \\left ( 2, \\quad 2, \\quad \\left [ \\left[\\begin{matrix}1\\\\0\\end{matrix}\\right]\\right ]\\right )\\right ]$$"
      ],
      "text/plain": [
       "⎡⎛      ⎡⎡1⎤⎤⎞⎤\n",
       "⎢⎜2, 2, ⎢⎢ ⎥⎥⎟⎥\n",
       "⎣⎝      ⎣⎣0⎦⎦⎠⎦"
      ]
     },
     "execution_count": 13,
     "metadata": {},
     "output_type": "execute_result"
    }
   ],
   "source": [
    "A2.eigenvects()"
   ]
  },
  {
   "cell_type": "markdown",
   "metadata": {},
   "source": [
    "----\n",
    "<a name=\"Diagonalizable_Matrix\"></a>\n",
    "# 2. Diagonalizable Matrix\n",
    "\n",
    "In class we will be using matrix diagonalization to solve some problems.  \n",
    "\n",
    "\n",
    "&#9989; <font color=red>**DO THIS:**</font>  Review Section 5.3 of the text book (Pages 316-327)\n",
    "\n",
    "Matrix $A$ is diagonalizable if there exists a diagonal matrix $D$ that is similar similar to $A$:\n",
    "\n",
    "$$ D = C^{-1}AC$$\n",
    "\n",
    "If Matrix $A$ has linearly independent eigenvectors ($v_1, \\ldots v_n$) then $A$ is Diagonalizable with the following solution:\n",
    "\n",
    "$$C = \\left[ v_1^T, \\ldots, v_n^T \\right]$$\n",
    "\n",
    "In other words $C$ each column of $C$ is a linearly independent eigenvector of $A$.\n",
    "\n",
    "$$ D = \n",
    "\\left[\n",
    "\\begin{matrix}\n",
    "    \\lambda_1  & 0   \\\\\n",
    "    0   & \\ddots & 0  \\\\\n",
    "    0   & 0 & \\lambda_n \n",
    "\\end{matrix}\n",
    "\\right] \n",
    "$$\n",
    "\n",
    "In other words $D$ consists of the corresponding eigenvalues situation."
   ]
  },
  {
   "cell_type": "code",
   "execution_count": 15,
   "metadata": {},
   "outputs": [],
   "source": [
    "%matplotlib inline\n",
    "import matplotlib.pylab as plt\n",
    "import numpy as np\n",
    "import sympy as sym\n",
    "sym.init_printing(use_unicode=True)"
   ]
  },
  {
   "cell_type": "markdown",
   "metadata": {},
   "source": [
    "&#9989; <font color=red>**DO THIS:**</font> Using ```numpy```, Diagonalize (i.e. calculate  C and D) the following matrix:"
   ]
  },
  {
   "cell_type": "code",
   "execution_count": 16,
   "metadata": {},
   "outputs": [
    {
     "data": {
      "text/latex": [
       "$$\\left[\\begin{matrix}5 & -2 & 2\\\\4 & -3 & 4\\\\4 & -6 & 7\\end{matrix}\\right]$$"
      ],
      "text/plain": [
       "⎡5  -2  2⎤\n",
       "⎢        ⎥\n",
       "⎢4  -3  4⎥\n",
       "⎢        ⎥\n",
       "⎣4  -6  7⎦"
      ]
     },
     "execution_count": 16,
     "metadata": {},
     "output_type": "execute_result"
    }
   ],
   "source": [
    "A = np.matrix([[5, -2, 2], [4, -3, 4], [4,-6,7]])\n",
    "sym.Matrix(A)"
   ]
  },
  {
   "cell_type": "code",
   "execution_count": 32,
   "metadata": {},
   "outputs": [
    {
     "name": "stdout",
     "output_type": "stream",
     "text": [
      "[[-5.77350269e-01  6.40987562e-17 -7.07106781e-01]\n",
      " [-5.77350269e-01  7.07106781e-01  2.77555756e-16]\n",
      " [-5.77350269e-01  7.07106781e-01  7.07106781e-01]]\n",
      "[[5. 0. 0.]\n",
      " [0. 1. 0.]\n",
      " [0. 0. 3.]]\n",
      "[[-5.77350269e-01  6.40987562e-17 -7.07106781e-01]\n",
      " [-5.77350269e-01  7.07106781e-01  2.77555756e-16]\n",
      " [-5.77350269e-01  7.07106781e-01  7.07106781e-01]]\n"
     ]
    }
   ],
   "source": [
    "# Put your answer here\n",
    "values = np.linalg.eig(A)[0]\n",
    "vectors = np.linalg.eig(A)[1]\n",
    "print(vectors)\n",
    "D = np.matrix([[values[0],0,0],[0,values[1],0],[0,0,values[2]]])\n",
    "print(D)\n",
    "C = vectors\n",
    "print(C)"
   ]
  },
  {
   "cell_type": "markdown",
   "metadata": {},
   "source": [
    "&#9989; <font color=red>**DO THIS:**</font> Verify that $A$ is in fact Diagonalizable by calculating $D2 = C^{-1}AC$ and comparing it to your original $D$ using ```np.allclose```."
   ]
  },
  {
   "cell_type": "code",
   "execution_count": 33,
   "metadata": {},
   "outputs": [
    {
     "name": "stdout",
     "output_type": "stream",
     "text": [
      "[[ 5.00000000e+00  8.88178420e-16 -1.77635684e-15]\n",
      " [-3.44169138e-15  1.00000000e+00  1.11022302e-15]\n",
      " [ 2.22044605e-15 -1.77635684e-15  3.00000000e+00]]\n"
     ]
    }
   ],
   "source": [
    "#Put your verificaiton code here.\n",
    "D2 = np.linalg.inv(C) * A * C\n",
    "print(D2)"
   ]
  },
  {
   "cell_type": "code",
   "execution_count": 34,
   "metadata": {},
   "outputs": [
    {
     "data": {
      "text/plain": [
       "True"
      ]
     },
     "execution_count": 34,
     "metadata": {},
     "output_type": "execute_result"
    }
   ],
   "source": [
    "np.allclose(D,D2)"
   ]
  },
  {
   "cell_type": "markdown",
   "metadata": {},
   "source": [
    "## Diagonalization of Symmetric Matrices\n",
    "\n",
    "One special case is Symmetric Matrices.  It can be shown (See book) that symmetric Matrices are Diagonalizable and the resulting eigenvectors are not only linearly independent but also orthogonal.    Since this is true, the equation changes to: \n",
    "\n",
    "\n",
    "$$ D = C^{T}AC$$\n",
    "\n",
    "&#9989; <font color=red>**QUESTION:**</font> Why do we care if $C$ is orthogonal?  What advantages does the above equation give us?"
   ]
  },
  {
   "cell_type": "markdown",
   "metadata": {},
   "source": [
    "If C is orthogonal, then C^-1 is C^T\n",
    "\n",
    "$$ A = CDC^{-1} $$\n",
    "$$ A^T = (CDC^{-1})^T = C^{-1^T}DC^T = CDC^T $$\n",
    "\n",
    "This equation is faster to compute because transpose only requires some shuffling while calculating the inverse takes O(n^3)"
   ]
  },
  {
   "cell_type": "markdown",
   "metadata": {},
   "source": [
    "----\n",
    "\n",
    "<a name=\"Assignment_wrap-up\"></a>\n",
    "# 3. Assignment wrap-up\n",
    "\n",
    "Please fill out the form that appears when you run the code below.  **You must completely fill this out in order to receive credit for the assignment!**\n",
    "\n",
    "[Direct Link to Google Form](https://cmse.msu.edu/cmse314-pc-survey)\n",
    "\n",
    "\n",
    "If you have trouble with the embedded form, please make sure you log on with your MSU google account at [googleapps.msu.edu](https://googleapps.msu.edu) and then click on the direct link above."
   ]
  },
  {
   "cell_type": "markdown",
   "metadata": {},
   "source": [
    "&#9989; <font color=red>**Assignment-Specific QUESTION:**</font> There is no Assignment specific question for this notebook. You can just say \"none\"."
   ]
  },
  {
   "cell_type": "markdown",
   "metadata": {},
   "source": [
    "Put your answer to the above question here"
   ]
  },
  {
   "cell_type": "markdown",
   "metadata": {},
   "source": [
    "&#9989; <font color=red>**QUESTION:**</font>  Summarize what you did in this assignment."
   ]
  },
  {
   "cell_type": "markdown",
   "metadata": {},
   "source": [
    "Put your answer to the above question here"
   ]
  },
  {
   "cell_type": "markdown",
   "metadata": {},
   "source": [
    "&#9989; <font color=red>**QUESTION:**</font>  What questions do you have, if any, about any of the topics discussed in this assignment after working through the jupyter notebook?"
   ]
  },
  {
   "cell_type": "markdown",
   "metadata": {},
   "source": [
    "Put your answer to the above question here"
   ]
  },
  {
   "cell_type": "markdown",
   "metadata": {},
   "source": [
    "&#9989; <font color=red>**QUESTION:**</font>  How well do you feel this assignment helped you to achieve a better understanding of the above mentioned topic(s)?"
   ]
  },
  {
   "cell_type": "markdown",
   "metadata": {},
   "source": [
    "Put your answer to the above question here"
   ]
  },
  {
   "cell_type": "markdown",
   "metadata": {},
   "source": [
    "&#9989; <font color=red>**QUESTION:**</font> What was the **most** challenging part of this assignment for you? "
   ]
  },
  {
   "cell_type": "markdown",
   "metadata": {},
   "source": [
    "Put your answer to the above question here"
   ]
  },
  {
   "cell_type": "markdown",
   "metadata": {},
   "source": [
    "&#9989; <font color=red>**QUESTION:**</font> What was the **least** challenging part of this assignment for you? "
   ]
  },
  {
   "cell_type": "markdown",
   "metadata": {},
   "source": [
    "Put your answer to the above question here"
   ]
  },
  {
   "cell_type": "markdown",
   "metadata": {},
   "source": [
    "&#9989; <font color=red>**QUESTION:**</font>  What kind of additional questions or support, if any, do you feel you need to have a better understanding of the content in this assignment?"
   ]
  },
  {
   "cell_type": "markdown",
   "metadata": {},
   "source": [
    "Put your answer to the above question here"
   ]
  },
  {
   "cell_type": "markdown",
   "metadata": {},
   "source": [
    "&#9989; <font color=red>**QUESTION:**</font>  Do you have any further questions or comments about this material, or anything else that's going on in class?"
   ]
  },
  {
   "cell_type": "markdown",
   "metadata": {},
   "source": [
    "Put your answer to the above question here"
   ]
  },
  {
   "cell_type": "markdown",
   "metadata": {},
   "source": [
    "&#9989; <font color=red>**QUESTION:**</font> Approximately how long did this pre-class assignment take?"
   ]
  },
  {
   "cell_type": "markdown",
   "metadata": {},
   "source": [
    "Put your answer to the above question here"
   ]
  },
  {
   "cell_type": "code",
   "execution_count": 5,
   "metadata": {},
   "outputs": [
    {
     "data": {
      "text/html": [
       "\n",
       "<iframe \n",
       "\tsrc=\"https://cmse.msu.edu/cmse314-pc-survey\" \n",
       "\twidth=\"100%\" \n",
       "\theight=\"1000px\" \n",
       "\tframeborder=\"0\" \n",
       "\tmarginheight=\"0\" \n",
       "\tmarginwidth=\"0\">\n",
       "\tLoading...\n",
       "</iframe>\n"
      ],
      "text/plain": [
       "<IPython.core.display.HTML object>"
      ]
     },
     "execution_count": 5,
     "metadata": {},
     "output_type": "execute_result"
    }
   ],
   "source": [
    "from IPython.display import HTML\n",
    "HTML(\n",
    "\"\"\"\n",
    "<iframe \n",
    "\tsrc=\"https://cmse.msu.edu/cmse314-pc-survey\" \n",
    "\twidth=\"100%\" \n",
    "\theight=\"1000px\" \n",
    "\tframeborder=\"0\" \n",
    "\tmarginheight=\"0\" \n",
    "\tmarginwidth=\"0\">\n",
    "\tLoading...\n",
    "</iframe>\n",
    "\"\"\"\n",
    ")"
   ]
  },
  {
   "cell_type": "markdown",
   "metadata": {},
   "source": [
    "---------\n",
    "### Congratulations, we're done!\n",
    "\n",
    "To get credit for this assignment you must fill out and submit the above Google From on or before the assignment due date."
   ]
  },
  {
   "cell_type": "markdown",
   "metadata": {},
   "source": [
    "### Course Resources:\n",
    "\n",
    "- [Syllabus](https://docs.google.com/document/d/e/2PACX-1vRAFflQFXulzSMwWcyr_SEd6piEzHLWTjGkwx49D6H6FZxQGWEHrKMDiIaV3Pu6adAQ-wjlg3IXptjM/pub)\n",
    "- [Preliminary Schedule](https://docs.google.com/spreadsheets/d/e/2PACX-1vS5UoXTmHDnF99kTHOiHIWuOBG7iqts-8EsbpoJHayRTB7F8eI4SfMR0MVp7dt0RQrMkNTVW6M1x-wY/pubhtml)\n",
    "- [Course D2L Page](https://d2l.msu.edu/d2l/home/832635)"
   ]
  },
  {
   "cell_type": "markdown",
   "metadata": {},
   "source": [
    "&#169; Copyright 2019,  Michigan State University Board of Trustees"
   ]
  }
 ],
 "metadata": {
  "anaconda-cloud": {},
  "kernelspec": {
   "display_name": "Python 3",
   "language": "python",
   "name": "python3"
  },
  "language_info": {
   "codemirror_mode": {
    "name": "ipython",
    "version": 3
   },
   "file_extension": ".py",
   "mimetype": "text/x-python",
   "name": "python",
   "nbconvert_exporter": "python",
   "pygments_lexer": "ipython3",
   "version": "3.6.3"
  }
 },
 "nbformat": 4,
 "nbformat_minor": 2
}
